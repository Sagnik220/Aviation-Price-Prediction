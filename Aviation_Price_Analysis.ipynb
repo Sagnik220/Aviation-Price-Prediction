{
  "nbformat": 4,
  "nbformat_minor": 0,
  "metadata": {
    "colab": {
      "name": "Aviation Price Analysis",
      "provenance": [],
      "authorship_tag": "ABX9TyMdcRwWOv811LXZUMDqr6Up",
      "include_colab_link": true
    },
    "kernelspec": {
      "name": "python3",
      "display_name": "Python 3"
    },
    "language_info": {
      "name": "python"
    }
  },
  "cells": [
    {
      "cell_type": "markdown",
      "metadata": {
        "id": "view-in-github",
        "colab_type": "text"
      },
      "source": [
        "<a href=\"https://colab.research.google.com/github/Sagnik220/Aviation-Price-Prediction/blob/main/Aviation_Price_Analysis.ipynb\" target=\"_parent\"><img src=\"https://colab.research.google.com/assets/colab-badge.svg\" alt=\"Open In Colab\"/></a>"
      ]
    },
    {
      "cell_type": "markdown",
      "metadata": {
        "id": "6oCBE4BuVk8Z"
      },
      "source": [
        "**Aviation Price Prediction**"
      ]
    },
    {
      "cell_type": "code",
      "metadata": {
        "id": "DRD9iFX3VcmZ"
      },
      "source": [
        "import numpy as np\n",
        "import pandas as pd\n",
        "import matplotlib.pyplot as plt\n",
        "import seaborn as sns"
      ],
      "execution_count": 20,
      "outputs": []
    },
    {
      "cell_type": "code",
      "metadata": {
        "id": "A9JcAxhwV48_"
      },
      "source": [
        "train_data=pd.read_excel('/content/Data_Train.xlsx')"
      ],
      "execution_count": 21,
      "outputs": []
    },
    {
      "cell_type": "code",
      "metadata": {
        "id": "M5yLPXKQV4_W"
      },
      "source": [
        "pd.set_option('display.max_columns',None)"
      ],
      "execution_count": 22,
      "outputs": []
    },
    {
      "cell_type": "markdown",
      "metadata": {
        "id": "UAhgQuHhXj9X"
      },
      "source": [
        "**Checking the Data Present**"
      ]
    },
    {
      "cell_type": "code",
      "metadata": {
        "colab": {
          "base_uri": "https://localhost:8080/",
          "height": 607
        },
        "id": "JGZobapvV5Bn",
        "outputId": "cb7466f7-a082-486d-e109-ab0f9d977688"
      },
      "source": [
        "train_data.head()"
      ],
      "execution_count": 26,
      "outputs": [
        {
          "output_type": "execute_result",
          "data": {
            "text/html": [
              "<div>\n",
              "<style scoped>\n",
              "    .dataframe tbody tr th:only-of-type {\n",
              "        vertical-align: middle;\n",
              "    }\n",
              "\n",
              "    .dataframe tbody tr th {\n",
              "        vertical-align: top;\n",
              "    }\n",
              "\n",
              "    .dataframe thead th {\n",
              "        text-align: right;\n",
              "    }\n",
              "</style>\n",
              "<table border=\"1\" class=\"dataframe\">\n",
              "  <thead>\n",
              "    <tr style=\"text-align: right;\">\n",
              "      <th></th>\n",
              "      <th>Airline</th>\n",
              "      <th>Date_of_Journey</th>\n",
              "      <th>Source</th>\n",
              "      <th>Destination</th>\n",
              "      <th>Route</th>\n",
              "      <th>Dep_Time</th>\n",
              "      <th>Arrival_Time</th>\n",
              "      <th>Duration</th>\n",
              "      <th>Total_Stops</th>\n",
              "      <th>Additional_Info</th>\n",
              "      <th>Price</th>\n",
              "    </tr>\n",
              "  </thead>\n",
              "  <tbody>\n",
              "    <tr>\n",
              "      <th>0</th>\n",
              "      <td>IndiGo</td>\n",
              "      <td>24/03/2019</td>\n",
              "      <td>Banglore</td>\n",
              "      <td>New Delhi</td>\n",
              "      <td>BLR → DEL</td>\n",
              "      <td>22:20</td>\n",
              "      <td>01:10 22 Mar</td>\n",
              "      <td>2h 50m</td>\n",
              "      <td>non-stop</td>\n",
              "      <td>No info</td>\n",
              "      <td>3897</td>\n",
              "    </tr>\n",
              "    <tr>\n",
              "      <th>1</th>\n",
              "      <td>Air India</td>\n",
              "      <td>1/05/2019</td>\n",
              "      <td>Kolkata</td>\n",
              "      <td>Banglore</td>\n",
              "      <td>CCU → IXR → BBI → BLR</td>\n",
              "      <td>05:50</td>\n",
              "      <td>13:15</td>\n",
              "      <td>7h 25m</td>\n",
              "      <td>2 stops</td>\n",
              "      <td>No info</td>\n",
              "      <td>7662</td>\n",
              "    </tr>\n",
              "    <tr>\n",
              "      <th>2</th>\n",
              "      <td>Jet Airways</td>\n",
              "      <td>9/06/2019</td>\n",
              "      <td>Delhi</td>\n",
              "      <td>Cochin</td>\n",
              "      <td>DEL → LKO → BOM → COK</td>\n",
              "      <td>09:25</td>\n",
              "      <td>04:25 10 Jun</td>\n",
              "      <td>19h</td>\n",
              "      <td>2 stops</td>\n",
              "      <td>No info</td>\n",
              "      <td>13882</td>\n",
              "    </tr>\n",
              "    <tr>\n",
              "      <th>3</th>\n",
              "      <td>IndiGo</td>\n",
              "      <td>12/05/2019</td>\n",
              "      <td>Kolkata</td>\n",
              "      <td>Banglore</td>\n",
              "      <td>CCU → NAG → BLR</td>\n",
              "      <td>18:05</td>\n",
              "      <td>23:30</td>\n",
              "      <td>5h 25m</td>\n",
              "      <td>1 stop</td>\n",
              "      <td>No info</td>\n",
              "      <td>6218</td>\n",
              "    </tr>\n",
              "    <tr>\n",
              "      <th>4</th>\n",
              "      <td>IndiGo</td>\n",
              "      <td>01/03/2019</td>\n",
              "      <td>Banglore</td>\n",
              "      <td>New Delhi</td>\n",
              "      <td>BLR → NAG → DEL</td>\n",
              "      <td>16:50</td>\n",
              "      <td>21:35</td>\n",
              "      <td>4h 45m</td>\n",
              "      <td>1 stop</td>\n",
              "      <td>No info</td>\n",
              "      <td>13302</td>\n",
              "    </tr>\n",
              "  </tbody>\n",
              "</table>\n",
              "</div>"
            ],
            "text/plain": [
              "       Airline Date_of_Journey    Source Destination                  Route  \\\n",
              "0       IndiGo      24/03/2019  Banglore   New Delhi              BLR → DEL   \n",
              "1    Air India       1/05/2019   Kolkata    Banglore  CCU → IXR → BBI → BLR   \n",
              "2  Jet Airways       9/06/2019     Delhi      Cochin  DEL → LKO → BOM → COK   \n",
              "3       IndiGo      12/05/2019   Kolkata    Banglore        CCU → NAG → BLR   \n",
              "4       IndiGo      01/03/2019  Banglore   New Delhi        BLR → NAG → DEL   \n",
              "\n",
              "  Dep_Time  Arrival_Time Duration Total_Stops Additional_Info  Price  \n",
              "0    22:20  01:10 22 Mar   2h 50m    non-stop         No info   3897  \n",
              "1    05:50         13:15   7h 25m     2 stops         No info   7662  \n",
              "2    09:25  04:25 10 Jun      19h     2 stops         No info  13882  \n",
              "3    18:05         23:30   5h 25m      1 stop         No info   6218  \n",
              "4    16:50         21:35   4h 45m      1 stop         No info  13302  "
            ]
          },
          "metadata": {
            "tags": []
          },
          "execution_count": 26
        }
      ]
    },
    {
      "cell_type": "code",
      "metadata": {
        "colab": {
          "base_uri": "https://localhost:8080/"
        },
        "id": "EOQdbbXfXBeB",
        "outputId": "d7e1f4c9-d137-47f7-961f-517645d616cf"
      },
      "source": [
        "train_data.info()"
      ],
      "execution_count": 27,
      "outputs": [
        {
          "output_type": "stream",
          "text": [
            "<class 'pandas.core.frame.DataFrame'>\n",
            "RangeIndex: 10683 entries, 0 to 10682\n",
            "Data columns (total 11 columns):\n",
            " #   Column           Non-Null Count  Dtype \n",
            "---  ------           --------------  ----- \n",
            " 0   Airline          10683 non-null  object\n",
            " 1   Date_of_Journey  10683 non-null  object\n",
            " 2   Source           10683 non-null  object\n",
            " 3   Destination      10683 non-null  object\n",
            " 4   Route            10682 non-null  object\n",
            " 5   Dep_Time         10683 non-null  object\n",
            " 6   Arrival_Time     10683 non-null  object\n",
            " 7   Duration         10683 non-null  object\n",
            " 8   Total_Stops      10682 non-null  object\n",
            " 9   Additional_Info  10683 non-null  object\n",
            " 10  Price            10683 non-null  int64 \n",
            "dtypes: int64(1), object(10)\n",
            "memory usage: 918.2+ KB\n"
          ],
          "name": "stdout"
        }
      ]
    },
    {
      "cell_type": "code",
      "metadata": {
        "colab": {
          "base_uri": "https://localhost:8080/"
        },
        "id": "5dS0K_D3XBgT",
        "outputId": "748e2d5d-ef6a-44bb-a425-f754bf8cdb13"
      },
      "source": [
        "train_data[\"Duration\"].value_counts()"
      ],
      "execution_count": 28,
      "outputs": [
        {
          "output_type": "execute_result",
          "data": {
            "text/plain": [
              "2h 50m     550\n",
              "1h 30m     386\n",
              "2h 55m     337\n",
              "2h 45m     337\n",
              "2h 35m     329\n",
              "          ... \n",
              "4h 10m       1\n",
              "30h 25m      1\n",
              "33h 20m      1\n",
              "13h 35m      1\n",
              "27h 55m      1\n",
              "Name: Duration, Length: 368, dtype: int64"
            ]
          },
          "metadata": {
            "tags": []
          },
          "execution_count": 28
        }
      ]
    },
    {
      "cell_type": "code",
      "metadata": {
        "id": "7TAKc4oqXBiV"
      },
      "source": [
        "train_data.dropna(inplace=True)"
      ],
      "execution_count": 29,
      "outputs": []
    },
    {
      "cell_type": "code",
      "metadata": {
        "colab": {
          "base_uri": "https://localhost:8080/"
        },
        "id": "Ayo7CjJ7YIyp",
        "outputId": "52bb7d74-f4ef-473c-bbed-adacbd7c7eb2"
      },
      "source": [
        "train_data.shape"
      ],
      "execution_count": 30,
      "outputs": [
        {
          "output_type": "execute_result",
          "data": {
            "text/plain": [
              "(10682, 11)"
            ]
          },
          "metadata": {
            "tags": []
          },
          "execution_count": 30
        }
      ]
    },
    {
      "cell_type": "code",
      "metadata": {
        "colab": {
          "base_uri": "https://localhost:8080/"
        },
        "id": "TnXGEz5GYI5J",
        "outputId": "1130cb1e-a840-4db6-8983-4833ca536cb7"
      },
      "source": [
        "train_data.isnull().sum()"
      ],
      "execution_count": 31,
      "outputs": [
        {
          "output_type": "execute_result",
          "data": {
            "text/plain": [
              "Airline            0\n",
              "Date_of_Journey    0\n",
              "Source             0\n",
              "Destination        0\n",
              "Route              0\n",
              "Dep_Time           0\n",
              "Arrival_Time       0\n",
              "Duration           0\n",
              "Total_Stops        0\n",
              "Additional_Info    0\n",
              "Price              0\n",
              "dtype: int64"
            ]
          },
          "metadata": {
            "tags": []
          },
          "execution_count": 31
        }
      ]
    },
    {
      "cell_type": "markdown",
      "metadata": {
        "id": "4SDuLlDgYo4B"
      },
      "source": [
        "**Exploratory Data Analysis**"
      ]
    },
    {
      "cell_type": "code",
      "metadata": {
        "id": "VG8IjeNTYI7W"
      },
      "source": [
        "# To get day data\n",
        "train_data[\"Journey_day\"]=pd.to_datetime(train_data.Date_of_Journey, format = \"%d/%m/%Y\").dt.day"
      ],
      "execution_count": 32,
      "outputs": []
    },
    {
      "cell_type": "code",
      "metadata": {
        "id": "Krudop5wYI9j"
      },
      "source": [
        "#To get month data\n",
        "train_data[\"Journey_month\"]=pd.to_datetime(train_data.Date_of_Journey, format = \"%d/%m/%Y\").dt.month"
      ],
      "execution_count": 33,
      "outputs": []
    },
    {
      "cell_type": "code",
      "metadata": {
        "colab": {
          "base_uri": "https://localhost:8080/",
          "height": 607
        },
        "id": "fVdpQmRdYI_j",
        "outputId": "87fe65b7-b40b-4a8c-dc9f-3fc82068de3a"
      },
      "source": [
        "train_data.head()"
      ],
      "execution_count": 34,
      "outputs": [
        {
          "output_type": "execute_result",
          "data": {
            "text/html": [
              "<div>\n",
              "<style scoped>\n",
              "    .dataframe tbody tr th:only-of-type {\n",
              "        vertical-align: middle;\n",
              "    }\n",
              "\n",
              "    .dataframe tbody tr th {\n",
              "        vertical-align: top;\n",
              "    }\n",
              "\n",
              "    .dataframe thead th {\n",
              "        text-align: right;\n",
              "    }\n",
              "</style>\n",
              "<table border=\"1\" class=\"dataframe\">\n",
              "  <thead>\n",
              "    <tr style=\"text-align: right;\">\n",
              "      <th></th>\n",
              "      <th>Airline</th>\n",
              "      <th>Date_of_Journey</th>\n",
              "      <th>Source</th>\n",
              "      <th>Destination</th>\n",
              "      <th>Route</th>\n",
              "      <th>Dep_Time</th>\n",
              "      <th>Arrival_Time</th>\n",
              "      <th>Duration</th>\n",
              "      <th>Total_Stops</th>\n",
              "      <th>Additional_Info</th>\n",
              "      <th>Price</th>\n",
              "      <th>Journey_day</th>\n",
              "      <th>Journey_month</th>\n",
              "    </tr>\n",
              "  </thead>\n",
              "  <tbody>\n",
              "    <tr>\n",
              "      <th>0</th>\n",
              "      <td>IndiGo</td>\n",
              "      <td>24/03/2019</td>\n",
              "      <td>Banglore</td>\n",
              "      <td>New Delhi</td>\n",
              "      <td>BLR → DEL</td>\n",
              "      <td>22:20</td>\n",
              "      <td>01:10 22 Mar</td>\n",
              "      <td>2h 50m</td>\n",
              "      <td>non-stop</td>\n",
              "      <td>No info</td>\n",
              "      <td>3897</td>\n",
              "      <td>24</td>\n",
              "      <td>3</td>\n",
              "    </tr>\n",
              "    <tr>\n",
              "      <th>1</th>\n",
              "      <td>Air India</td>\n",
              "      <td>1/05/2019</td>\n",
              "      <td>Kolkata</td>\n",
              "      <td>Banglore</td>\n",
              "      <td>CCU → IXR → BBI → BLR</td>\n",
              "      <td>05:50</td>\n",
              "      <td>13:15</td>\n",
              "      <td>7h 25m</td>\n",
              "      <td>2 stops</td>\n",
              "      <td>No info</td>\n",
              "      <td>7662</td>\n",
              "      <td>1</td>\n",
              "      <td>5</td>\n",
              "    </tr>\n",
              "    <tr>\n",
              "      <th>2</th>\n",
              "      <td>Jet Airways</td>\n",
              "      <td>9/06/2019</td>\n",
              "      <td>Delhi</td>\n",
              "      <td>Cochin</td>\n",
              "      <td>DEL → LKO → BOM → COK</td>\n",
              "      <td>09:25</td>\n",
              "      <td>04:25 10 Jun</td>\n",
              "      <td>19h</td>\n",
              "      <td>2 stops</td>\n",
              "      <td>No info</td>\n",
              "      <td>13882</td>\n",
              "      <td>9</td>\n",
              "      <td>6</td>\n",
              "    </tr>\n",
              "    <tr>\n",
              "      <th>3</th>\n",
              "      <td>IndiGo</td>\n",
              "      <td>12/05/2019</td>\n",
              "      <td>Kolkata</td>\n",
              "      <td>Banglore</td>\n",
              "      <td>CCU → NAG → BLR</td>\n",
              "      <td>18:05</td>\n",
              "      <td>23:30</td>\n",
              "      <td>5h 25m</td>\n",
              "      <td>1 stop</td>\n",
              "      <td>No info</td>\n",
              "      <td>6218</td>\n",
              "      <td>12</td>\n",
              "      <td>5</td>\n",
              "    </tr>\n",
              "    <tr>\n",
              "      <th>4</th>\n",
              "      <td>IndiGo</td>\n",
              "      <td>01/03/2019</td>\n",
              "      <td>Banglore</td>\n",
              "      <td>New Delhi</td>\n",
              "      <td>BLR → NAG → DEL</td>\n",
              "      <td>16:50</td>\n",
              "      <td>21:35</td>\n",
              "      <td>4h 45m</td>\n",
              "      <td>1 stop</td>\n",
              "      <td>No info</td>\n",
              "      <td>13302</td>\n",
              "      <td>1</td>\n",
              "      <td>3</td>\n",
              "    </tr>\n",
              "  </tbody>\n",
              "</table>\n",
              "</div>"
            ],
            "text/plain": [
              "       Airline Date_of_Journey    Source Destination                  Route  \\\n",
              "0       IndiGo      24/03/2019  Banglore   New Delhi              BLR → DEL   \n",
              "1    Air India       1/05/2019   Kolkata    Banglore  CCU → IXR → BBI → BLR   \n",
              "2  Jet Airways       9/06/2019     Delhi      Cochin  DEL → LKO → BOM → COK   \n",
              "3       IndiGo      12/05/2019   Kolkata    Banglore        CCU → NAG → BLR   \n",
              "4       IndiGo      01/03/2019  Banglore   New Delhi        BLR → NAG → DEL   \n",
              "\n",
              "  Dep_Time  Arrival_Time Duration Total_Stops Additional_Info  Price  \\\n",
              "0    22:20  01:10 22 Mar   2h 50m    non-stop         No info   3897   \n",
              "1    05:50         13:15   7h 25m     2 stops         No info   7662   \n",
              "2    09:25  04:25 10 Jun      19h     2 stops         No info  13882   \n",
              "3    18:05         23:30   5h 25m      1 stop         No info   6218   \n",
              "4    16:50         21:35   4h 45m      1 stop         No info  13302   \n",
              "\n",
              "   Journey_day  Journey_month  \n",
              "0           24              3  \n",
              "1            1              5  \n",
              "2            9              6  \n",
              "3           12              5  \n",
              "4            1              3  "
            ]
          },
          "metadata": {
            "tags": []
          },
          "execution_count": 34
        }
      ]
    },
    {
      "cell_type": "code",
      "metadata": {
        "id": "AJXHPSWqXBj8"
      },
      "source": [
        "#As we have extracted the day and month info from Date of Journey column we dont need that anymore\n",
        "train_data.drop([\"Date_of_Journey\"],axis=1,inplace=True)"
      ],
      "execution_count": 35,
      "outputs": []
    },
    {
      "cell_type": "code",
      "metadata": {
        "colab": {
          "base_uri": "https://localhost:8080/",
          "height": 607
        },
        "id": "4I9yDmWNa3cO",
        "outputId": "f207f27c-9d77-45d0-b9d2-a7059b18a9a0"
      },
      "source": [
        "train_data.head()"
      ],
      "execution_count": 36,
      "outputs": [
        {
          "output_type": "execute_result",
          "data": {
            "text/html": [
              "<div>\n",
              "<style scoped>\n",
              "    .dataframe tbody tr th:only-of-type {\n",
              "        vertical-align: middle;\n",
              "    }\n",
              "\n",
              "    .dataframe tbody tr th {\n",
              "        vertical-align: top;\n",
              "    }\n",
              "\n",
              "    .dataframe thead th {\n",
              "        text-align: right;\n",
              "    }\n",
              "</style>\n",
              "<table border=\"1\" class=\"dataframe\">\n",
              "  <thead>\n",
              "    <tr style=\"text-align: right;\">\n",
              "      <th></th>\n",
              "      <th>Airline</th>\n",
              "      <th>Source</th>\n",
              "      <th>Destination</th>\n",
              "      <th>Route</th>\n",
              "      <th>Dep_Time</th>\n",
              "      <th>Arrival_Time</th>\n",
              "      <th>Duration</th>\n",
              "      <th>Total_Stops</th>\n",
              "      <th>Additional_Info</th>\n",
              "      <th>Price</th>\n",
              "      <th>Journey_day</th>\n",
              "      <th>Journey_month</th>\n",
              "    </tr>\n",
              "  </thead>\n",
              "  <tbody>\n",
              "    <tr>\n",
              "      <th>0</th>\n",
              "      <td>IndiGo</td>\n",
              "      <td>Banglore</td>\n",
              "      <td>New Delhi</td>\n",
              "      <td>BLR → DEL</td>\n",
              "      <td>22:20</td>\n",
              "      <td>01:10 22 Mar</td>\n",
              "      <td>2h 50m</td>\n",
              "      <td>non-stop</td>\n",
              "      <td>No info</td>\n",
              "      <td>3897</td>\n",
              "      <td>24</td>\n",
              "      <td>3</td>\n",
              "    </tr>\n",
              "    <tr>\n",
              "      <th>1</th>\n",
              "      <td>Air India</td>\n",
              "      <td>Kolkata</td>\n",
              "      <td>Banglore</td>\n",
              "      <td>CCU → IXR → BBI → BLR</td>\n",
              "      <td>05:50</td>\n",
              "      <td>13:15</td>\n",
              "      <td>7h 25m</td>\n",
              "      <td>2 stops</td>\n",
              "      <td>No info</td>\n",
              "      <td>7662</td>\n",
              "      <td>1</td>\n",
              "      <td>5</td>\n",
              "    </tr>\n",
              "    <tr>\n",
              "      <th>2</th>\n",
              "      <td>Jet Airways</td>\n",
              "      <td>Delhi</td>\n",
              "      <td>Cochin</td>\n",
              "      <td>DEL → LKO → BOM → COK</td>\n",
              "      <td>09:25</td>\n",
              "      <td>04:25 10 Jun</td>\n",
              "      <td>19h</td>\n",
              "      <td>2 stops</td>\n",
              "      <td>No info</td>\n",
              "      <td>13882</td>\n",
              "      <td>9</td>\n",
              "      <td>6</td>\n",
              "    </tr>\n",
              "    <tr>\n",
              "      <th>3</th>\n",
              "      <td>IndiGo</td>\n",
              "      <td>Kolkata</td>\n",
              "      <td>Banglore</td>\n",
              "      <td>CCU → NAG → BLR</td>\n",
              "      <td>18:05</td>\n",
              "      <td>23:30</td>\n",
              "      <td>5h 25m</td>\n",
              "      <td>1 stop</td>\n",
              "      <td>No info</td>\n",
              "      <td>6218</td>\n",
              "      <td>12</td>\n",
              "      <td>5</td>\n",
              "    </tr>\n",
              "    <tr>\n",
              "      <th>4</th>\n",
              "      <td>IndiGo</td>\n",
              "      <td>Banglore</td>\n",
              "      <td>New Delhi</td>\n",
              "      <td>BLR → NAG → DEL</td>\n",
              "      <td>16:50</td>\n",
              "      <td>21:35</td>\n",
              "      <td>4h 45m</td>\n",
              "      <td>1 stop</td>\n",
              "      <td>No info</td>\n",
              "      <td>13302</td>\n",
              "      <td>1</td>\n",
              "      <td>3</td>\n",
              "    </tr>\n",
              "  </tbody>\n",
              "</table>\n",
              "</div>"
            ],
            "text/plain": [
              "       Airline    Source Destination                  Route Dep_Time  \\\n",
              "0       IndiGo  Banglore   New Delhi              BLR → DEL    22:20   \n",
              "1    Air India   Kolkata    Banglore  CCU → IXR → BBI → BLR    05:50   \n",
              "2  Jet Airways     Delhi      Cochin  DEL → LKO → BOM → COK    09:25   \n",
              "3       IndiGo   Kolkata    Banglore        CCU → NAG → BLR    18:05   \n",
              "4       IndiGo  Banglore   New Delhi        BLR → NAG → DEL    16:50   \n",
              "\n",
              "   Arrival_Time Duration Total_Stops Additional_Info  Price  Journey_day  \\\n",
              "0  01:10 22 Mar   2h 50m    non-stop         No info   3897           24   \n",
              "1         13:15   7h 25m     2 stops         No info   7662            1   \n",
              "2  04:25 10 Jun      19h     2 stops         No info  13882            9   \n",
              "3         23:30   5h 25m      1 stop         No info   6218           12   \n",
              "4         21:35   4h 45m      1 stop         No info  13302            1   \n",
              "\n",
              "   Journey_month  \n",
              "0              3  \n",
              "1              5  \n",
              "2              6  \n",
              "3              5  \n",
              "4              3  "
            ]
          },
          "metadata": {
            "tags": []
          },
          "execution_count": 36
        }
      ]
    },
    {
      "cell_type": "code",
      "metadata": {
        "id": "bVFX3GOQa3e9"
      },
      "source": [
        "#Similarly we are going to extract the data's from Departure Time as well\n",
        "\n",
        "train_data['Dep_hour']=pd.to_datetime(train_data.Dep_Time).dt.hour\n",
        "train_data['Dep_minute']=pd.to_datetime(train_data.Dep_Time).dt.minute\n",
        "\n",
        "train_data.drop([\"Dep_Time\"],axis=1,inplace=True)\n"
      ],
      "execution_count": 37,
      "outputs": []
    },
    {
      "cell_type": "code",
      "metadata": {
        "colab": {
          "base_uri": "https://localhost:8080/",
          "height": 607
        },
        "id": "DujXppdHa3gw",
        "outputId": "9ad05474-62d6-4e95-e462-2291577687b2"
      },
      "source": [
        "train_data.head()"
      ],
      "execution_count": 38,
      "outputs": [
        {
          "output_type": "execute_result",
          "data": {
            "text/html": [
              "<div>\n",
              "<style scoped>\n",
              "    .dataframe tbody tr th:only-of-type {\n",
              "        vertical-align: middle;\n",
              "    }\n",
              "\n",
              "    .dataframe tbody tr th {\n",
              "        vertical-align: top;\n",
              "    }\n",
              "\n",
              "    .dataframe thead th {\n",
              "        text-align: right;\n",
              "    }\n",
              "</style>\n",
              "<table border=\"1\" class=\"dataframe\">\n",
              "  <thead>\n",
              "    <tr style=\"text-align: right;\">\n",
              "      <th></th>\n",
              "      <th>Airline</th>\n",
              "      <th>Source</th>\n",
              "      <th>Destination</th>\n",
              "      <th>Route</th>\n",
              "      <th>Arrival_Time</th>\n",
              "      <th>Duration</th>\n",
              "      <th>Total_Stops</th>\n",
              "      <th>Additional_Info</th>\n",
              "      <th>Price</th>\n",
              "      <th>Journey_day</th>\n",
              "      <th>Journey_month</th>\n",
              "      <th>Dep_hour</th>\n",
              "      <th>Dep_minute</th>\n",
              "    </tr>\n",
              "  </thead>\n",
              "  <tbody>\n",
              "    <tr>\n",
              "      <th>0</th>\n",
              "      <td>IndiGo</td>\n",
              "      <td>Banglore</td>\n",
              "      <td>New Delhi</td>\n",
              "      <td>BLR → DEL</td>\n",
              "      <td>01:10 22 Mar</td>\n",
              "      <td>2h 50m</td>\n",
              "      <td>non-stop</td>\n",
              "      <td>No info</td>\n",
              "      <td>3897</td>\n",
              "      <td>24</td>\n",
              "      <td>3</td>\n",
              "      <td>22</td>\n",
              "      <td>20</td>\n",
              "    </tr>\n",
              "    <tr>\n",
              "      <th>1</th>\n",
              "      <td>Air India</td>\n",
              "      <td>Kolkata</td>\n",
              "      <td>Banglore</td>\n",
              "      <td>CCU → IXR → BBI → BLR</td>\n",
              "      <td>13:15</td>\n",
              "      <td>7h 25m</td>\n",
              "      <td>2 stops</td>\n",
              "      <td>No info</td>\n",
              "      <td>7662</td>\n",
              "      <td>1</td>\n",
              "      <td>5</td>\n",
              "      <td>5</td>\n",
              "      <td>50</td>\n",
              "    </tr>\n",
              "    <tr>\n",
              "      <th>2</th>\n",
              "      <td>Jet Airways</td>\n",
              "      <td>Delhi</td>\n",
              "      <td>Cochin</td>\n",
              "      <td>DEL → LKO → BOM → COK</td>\n",
              "      <td>04:25 10 Jun</td>\n",
              "      <td>19h</td>\n",
              "      <td>2 stops</td>\n",
              "      <td>No info</td>\n",
              "      <td>13882</td>\n",
              "      <td>9</td>\n",
              "      <td>6</td>\n",
              "      <td>9</td>\n",
              "      <td>25</td>\n",
              "    </tr>\n",
              "    <tr>\n",
              "      <th>3</th>\n",
              "      <td>IndiGo</td>\n",
              "      <td>Kolkata</td>\n",
              "      <td>Banglore</td>\n",
              "      <td>CCU → NAG → BLR</td>\n",
              "      <td>23:30</td>\n",
              "      <td>5h 25m</td>\n",
              "      <td>1 stop</td>\n",
              "      <td>No info</td>\n",
              "      <td>6218</td>\n",
              "      <td>12</td>\n",
              "      <td>5</td>\n",
              "      <td>18</td>\n",
              "      <td>5</td>\n",
              "    </tr>\n",
              "    <tr>\n",
              "      <th>4</th>\n",
              "      <td>IndiGo</td>\n",
              "      <td>Banglore</td>\n",
              "      <td>New Delhi</td>\n",
              "      <td>BLR → NAG → DEL</td>\n",
              "      <td>21:35</td>\n",
              "      <td>4h 45m</td>\n",
              "      <td>1 stop</td>\n",
              "      <td>No info</td>\n",
              "      <td>13302</td>\n",
              "      <td>1</td>\n",
              "      <td>3</td>\n",
              "      <td>16</td>\n",
              "      <td>50</td>\n",
              "    </tr>\n",
              "  </tbody>\n",
              "</table>\n",
              "</div>"
            ],
            "text/plain": [
              "       Airline    Source Destination                  Route  Arrival_Time  \\\n",
              "0       IndiGo  Banglore   New Delhi              BLR → DEL  01:10 22 Mar   \n",
              "1    Air India   Kolkata    Banglore  CCU → IXR → BBI → BLR         13:15   \n",
              "2  Jet Airways     Delhi      Cochin  DEL → LKO → BOM → COK  04:25 10 Jun   \n",
              "3       IndiGo   Kolkata    Banglore        CCU → NAG → BLR         23:30   \n",
              "4       IndiGo  Banglore   New Delhi        BLR → NAG → DEL         21:35   \n",
              "\n",
              "  Duration Total_Stops Additional_Info  Price  Journey_day  Journey_month  \\\n",
              "0   2h 50m    non-stop         No info   3897           24              3   \n",
              "1   7h 25m     2 stops         No info   7662            1              5   \n",
              "2      19h     2 stops         No info  13882            9              6   \n",
              "3   5h 25m      1 stop         No info   6218           12              5   \n",
              "4   4h 45m      1 stop         No info  13302            1              3   \n",
              "\n",
              "   Dep_hour  Dep_minute  \n",
              "0        22          20  \n",
              "1         5          50  \n",
              "2         9          25  \n",
              "3        18           5  \n",
              "4        16          50  "
            ]
          },
          "metadata": {
            "tags": []
          },
          "execution_count": 38
        }
      ]
    },
    {
      "cell_type": "code",
      "metadata": {
        "id": "CV-rgSwta3oW"
      },
      "source": [
        "# Time taken by plane to reach destination is called Duration\n",
        "# It is the differnce betwwen Departure Time and Arrival time\n",
        "\n",
        "\n",
        "# Assigning and converting Duration column into list\n",
        "duration = list(train_data[\"Duration\"])\n",
        "\n",
        "for i in range(len(duration)):\n",
        "    if len(duration[i].split()) != 2:    # Check if duration contains only hour or mins\n",
        "        if \"h\" in duration[i]:\n",
        "            duration[i] = duration[i].strip() + \" 0m\"   # Adds 0 minute\n",
        "        else:\n",
        "            duration[i] = \"0h \" + duration[i]           # Adds 0 hour\n",
        "\n",
        "duration_hours = []\n",
        "duration_mins = []\n",
        "for i in range(len(duration)):\n",
        "    duration_hours.append(int(duration[i].split(sep = \"h\")[0]))    # Extract hours from duration\n",
        "    duration_mins.append(int(duration[i].split(sep = \"m\")[0].split()[-1]))   # Extracts only minutes from duration"
      ],
      "execution_count": 45,
      "outputs": []
    },
    {
      "cell_type": "code",
      "metadata": {
        "id": "D9phx428a3uA"
      },
      "source": [
        "\n",
        "# Adding duration_hours and duration_mins list to train_data dataframe\n",
        "\n",
        "train_data[\"Duration_hours\"] = duration_hours\n",
        "train_data[\"Duration_mins\"] = duration_mins"
      ],
      "execution_count": 46,
      "outputs": []
    },
    {
      "cell_type": "code",
      "metadata": {
        "id": "3sP8vnzzHW6A"
      },
      "source": [
        "train_data.drop([\"Duration\"], axis = 1, inplace = True)"
      ],
      "execution_count": 47,
      "outputs": []
    },
    {
      "cell_type": "code",
      "metadata": {
        "colab": {
          "base_uri": "https://localhost:8080/",
          "height": 607
        },
        "id": "CG3K3Y7eHXD2",
        "outputId": "01e4bfbb-05ab-4e13-c1ef-ea80fa4dfe52"
      },
      "source": [
        "train_data.head()"
      ],
      "execution_count": 48,
      "outputs": [
        {
          "output_type": "execute_result",
          "data": {
            "text/html": [
              "<div>\n",
              "<style scoped>\n",
              "    .dataframe tbody tr th:only-of-type {\n",
              "        vertical-align: middle;\n",
              "    }\n",
              "\n",
              "    .dataframe tbody tr th {\n",
              "        vertical-align: top;\n",
              "    }\n",
              "\n",
              "    .dataframe thead th {\n",
              "        text-align: right;\n",
              "    }\n",
              "</style>\n",
              "<table border=\"1\" class=\"dataframe\">\n",
              "  <thead>\n",
              "    <tr style=\"text-align: right;\">\n",
              "      <th></th>\n",
              "      <th>Airline</th>\n",
              "      <th>Source</th>\n",
              "      <th>Destination</th>\n",
              "      <th>Route</th>\n",
              "      <th>Arrival_Time</th>\n",
              "      <th>Total_Stops</th>\n",
              "      <th>Additional_Info</th>\n",
              "      <th>Price</th>\n",
              "      <th>Journey_day</th>\n",
              "      <th>Journey_month</th>\n",
              "      <th>Dep_hour</th>\n",
              "      <th>Dep_minute</th>\n",
              "      <th>Duration_hours</th>\n",
              "      <th>Duration_mins</th>\n",
              "    </tr>\n",
              "  </thead>\n",
              "  <tbody>\n",
              "    <tr>\n",
              "      <th>0</th>\n",
              "      <td>IndiGo</td>\n",
              "      <td>Banglore</td>\n",
              "      <td>New Delhi</td>\n",
              "      <td>BLR → DEL</td>\n",
              "      <td>01:10 22 Mar</td>\n",
              "      <td>non-stop</td>\n",
              "      <td>No info</td>\n",
              "      <td>3897</td>\n",
              "      <td>24</td>\n",
              "      <td>3</td>\n",
              "      <td>22</td>\n",
              "      <td>20</td>\n",
              "      <td>2</td>\n",
              "      <td>50</td>\n",
              "    </tr>\n",
              "    <tr>\n",
              "      <th>1</th>\n",
              "      <td>Air India</td>\n",
              "      <td>Kolkata</td>\n",
              "      <td>Banglore</td>\n",
              "      <td>CCU → IXR → BBI → BLR</td>\n",
              "      <td>13:15</td>\n",
              "      <td>2 stops</td>\n",
              "      <td>No info</td>\n",
              "      <td>7662</td>\n",
              "      <td>1</td>\n",
              "      <td>5</td>\n",
              "      <td>5</td>\n",
              "      <td>50</td>\n",
              "      <td>7</td>\n",
              "      <td>25</td>\n",
              "    </tr>\n",
              "    <tr>\n",
              "      <th>2</th>\n",
              "      <td>Jet Airways</td>\n",
              "      <td>Delhi</td>\n",
              "      <td>Cochin</td>\n",
              "      <td>DEL → LKO → BOM → COK</td>\n",
              "      <td>04:25 10 Jun</td>\n",
              "      <td>2 stops</td>\n",
              "      <td>No info</td>\n",
              "      <td>13882</td>\n",
              "      <td>9</td>\n",
              "      <td>6</td>\n",
              "      <td>9</td>\n",
              "      <td>25</td>\n",
              "      <td>19</td>\n",
              "      <td>0</td>\n",
              "    </tr>\n",
              "    <tr>\n",
              "      <th>3</th>\n",
              "      <td>IndiGo</td>\n",
              "      <td>Kolkata</td>\n",
              "      <td>Banglore</td>\n",
              "      <td>CCU → NAG → BLR</td>\n",
              "      <td>23:30</td>\n",
              "      <td>1 stop</td>\n",
              "      <td>No info</td>\n",
              "      <td>6218</td>\n",
              "      <td>12</td>\n",
              "      <td>5</td>\n",
              "      <td>18</td>\n",
              "      <td>5</td>\n",
              "      <td>5</td>\n",
              "      <td>25</td>\n",
              "    </tr>\n",
              "    <tr>\n",
              "      <th>4</th>\n",
              "      <td>IndiGo</td>\n",
              "      <td>Banglore</td>\n",
              "      <td>New Delhi</td>\n",
              "      <td>BLR → NAG → DEL</td>\n",
              "      <td>21:35</td>\n",
              "      <td>1 stop</td>\n",
              "      <td>No info</td>\n",
              "      <td>13302</td>\n",
              "      <td>1</td>\n",
              "      <td>3</td>\n",
              "      <td>16</td>\n",
              "      <td>50</td>\n",
              "      <td>4</td>\n",
              "      <td>45</td>\n",
              "    </tr>\n",
              "  </tbody>\n",
              "</table>\n",
              "</div>"
            ],
            "text/plain": [
              "       Airline    Source Destination                  Route  Arrival_Time  \\\n",
              "0       IndiGo  Banglore   New Delhi              BLR → DEL  01:10 22 Mar   \n",
              "1    Air India   Kolkata    Banglore  CCU → IXR → BBI → BLR         13:15   \n",
              "2  Jet Airways     Delhi      Cochin  DEL → LKO → BOM → COK  04:25 10 Jun   \n",
              "3       IndiGo   Kolkata    Banglore        CCU → NAG → BLR         23:30   \n",
              "4       IndiGo  Banglore   New Delhi        BLR → NAG → DEL         21:35   \n",
              "\n",
              "  Total_Stops Additional_Info  Price  Journey_day  Journey_month  Dep_hour  \\\n",
              "0    non-stop         No info   3897           24              3        22   \n",
              "1     2 stops         No info   7662            1              5         5   \n",
              "2     2 stops         No info  13882            9              6         9   \n",
              "3      1 stop         No info   6218           12              5        18   \n",
              "4      1 stop         No info  13302            1              3        16   \n",
              "\n",
              "   Dep_minute  Duration_hours  Duration_mins  \n",
              "0          20               2             50  \n",
              "1          50               7             25  \n",
              "2          25              19              0  \n",
              "3           5               5             25  \n",
              "4          50               4             45  "
            ]
          },
          "metadata": {
            "tags": []
          },
          "execution_count": 48
        }
      ]
    },
    {
      "cell_type": "markdown",
      "metadata": {
        "id": "D81Q0P3KJMbC"
      },
      "source": [
        "**Handling Categorical Data**\n",
        "\n",
        "One can find many ways to handle categorical data. Some of them categorical data are,\n",
        "\n",
        "1.**Nominal data** --> data are not in any order --> **OneHotEncoder** is used in this case\n",
        "\n",
        "2.**Ordinal data** --> data are in order --> **LabelEncoder** is used in this case"
      ]
    },
    {
      "cell_type": "code",
      "metadata": {
        "colab": {
          "base_uri": "https://localhost:8080/"
        },
        "id": "cnHcEX0cHXKM",
        "outputId": "7d50109c-ec4e-4f7c-96f7-574f41768012"
      },
      "source": [
        "train_data[\"Airline\"].value_counts()"
      ],
      "execution_count": 49,
      "outputs": [
        {
          "output_type": "execute_result",
          "data": {
            "text/plain": [
              "Jet Airways                          3849\n",
              "IndiGo                               2053\n",
              "Air India                            1751\n",
              "Multiple carriers                    1196\n",
              "SpiceJet                              818\n",
              "Vistara                               479\n",
              "Air Asia                              319\n",
              "GoAir                                 194\n",
              "Multiple carriers Premium economy      13\n",
              "Jet Airways Business                    6\n",
              "Vistara Premium economy                 3\n",
              "Trujet                                  1\n",
              "Name: Airline, dtype: int64"
            ]
          },
          "metadata": {
            "tags": []
          },
          "execution_count": 49
        }
      ]
    },
    {
      "cell_type": "code",
      "metadata": {
        "colab": {
          "base_uri": "https://localhost:8080/",
          "height": 305
        },
        "id": "4PSaYsXuHXMm",
        "outputId": "4e909cc3-9fa2-4712-fffe-14054e626b55"
      },
      "source": [
        "# From graph we can see that Jet Airways Business have the highest Price.\n",
        "# Apart from the first Airline almost all are having similar median\n",
        "\n",
        "# Airline vs Price\n",
        "sns.catplot(y = \"Price\", x = \"Airline\", data = train_data.sort_values(\"Price\", ascending = False), kind=\"boxen\", height = 6, aspect = 3)\n",
        "plt.show()"
      ],
      "execution_count": 50,
      "outputs": [
        {
          "output_type": "display_data",
          "data": {
            "image/png": "[encoded data removed]",
            "text/plain": [
              "<Figure size 1296x432 with 1 Axes>"
            ]
          },
          "metadata": {
            "tags": [],
            "needs_background": "light"
          }
        }
      ]
    },
    {
      "cell_type": "code",
      "metadata": {
        "colab": {
          "base_uri": "https://localhost:8080/",
          "height": 261
        },
        "id": "Z9-BQtwUHXO-",
        "outputId": "1e67a1f3-9556-4a62-9c1a-d3a23a24a810"
      },
      "source": [
        "# As Airline is Nominal Categorical data we will perform OneHotEncoding\n",
        "\n",
        "Airline = train_data[[\"Airline\"]]\n",
        "\n",
        "Airline = pd.get_dummies(Airline, drop_first= True)\n",
        "\n",
        "Airline.head()"
      ],
      "execution_count": 51,
      "outputs": [
        {
          "output_type": "execute_result",
          "data": {
            "text/html": [
              "<div>\n",
              "<style scoped>\n",
              "    .dataframe tbody tr th:only-of-type {\n",
              "        vertical-align: middle;\n",
              "    }\n",
              "\n",
              "    .dataframe tbody tr th {\n",
              "        vertical-align: top;\n",
              "    }\n",
              "\n",
              "    .dataframe thead th {\n",
              "        text-align: right;\n",
              "    }\n",
              "</style>\n",
              "<table border=\"1\" class=\"dataframe\">\n",
              "  <thead>\n",
              "    <tr style=\"text-align: right;\">\n",
              "      <th></th>\n",
              "      <th>Airline_Air India</th>\n",
              "      <th>Airline_GoAir</th>\n",
              "      <th>Airline_IndiGo</th>\n",
              "      <th>Airline_Jet Airways</th>\n",
              "      <th>Airline_Jet Airways Business</th>\n",
              "      <th>Airline_Multiple carriers</th>\n",
              "      <th>Airline_Multiple carriers Premium economy</th>\n",
              "      <th>Airline_SpiceJet</th>\n",
              "      <th>Airline_Trujet</th>\n",
              "      <th>Airline_Vistara</th>\n",
              "      <th>Airline_Vistara Premium economy</th>\n",
              "    </tr>\n",
              "  </thead>\n",
              "  <tbody>\n",
              "    <tr>\n",
              "      <th>0</th>\n",
              "      <td>0</td>\n",
              "      <td>0</td>\n",
              "      <td>1</td>\n",
              "      <td>0</td>\n",
              "      <td>0</td>\n",
              "      <td>0</td>\n",
              "      <td>0</td>\n",
              "      <td>0</td>\n",
              "      <td>0</td>\n",
              "      <td>0</td>\n",
              "      <td>0</td>\n",
              "    </tr>\n",
              "    <tr>\n",
              "      <th>1</th>\n",
              "      <td>1</td>\n",
              "      <td>0</td>\n",
              "      <td>0</td>\n",
              "      <td>0</td>\n",
              "      <td>0</td>\n",
              "      <td>0</td>\n",
              "      <td>0</td>\n",
              "      <td>0</td>\n",
              "      <td>0</td>\n",
              "      <td>0</td>\n",
              "      <td>0</td>\n",
              "    </tr>\n",
              "    <tr>\n",
              "      <th>2</th>\n",
              "      <td>0</td>\n",
              "      <td>0</td>\n",
              "      <td>0</td>\n",
              "      <td>1</td>\n",
              "      <td>0</td>\n",
              "      <td>0</td>\n",
              "      <td>0</td>\n",
              "      <td>0</td>\n",
              "      <td>0</td>\n",
              "      <td>0</td>\n",
              "      <td>0</td>\n",
              "    </tr>\n",
              "    <tr>\n",
              "      <th>3</th>\n",
              "      <td>0</td>\n",
              "      <td>0</td>\n",
              "      <td>1</td>\n",
              "      <td>0</td>\n",
              "      <td>0</td>\n",
              "      <td>0</td>\n",
              "      <td>0</td>\n",
              "      <td>0</td>\n",
              "      <td>0</td>\n",
              "      <td>0</td>\n",
              "      <td>0</td>\n",
              "    </tr>\n",
              "    <tr>\n",
              "      <th>4</th>\n",
              "      <td>0</td>\n",
              "      <td>0</td>\n",
              "      <td>1</td>\n",
              "      <td>0</td>\n",
              "      <td>0</td>\n",
              "      <td>0</td>\n",
              "      <td>0</td>\n",
              "      <td>0</td>\n",
              "      <td>0</td>\n",
              "      <td>0</td>\n",
              "      <td>0</td>\n",
              "    </tr>\n",
              "  </tbody>\n",
              "</table>\n",
              "</div>"
            ],
            "text/plain": [
              "   Airline_Air India  Airline_GoAir  Airline_IndiGo  Airline_Jet Airways  \\\n",
              "0                  0              0               1                    0   \n",
              "1                  1              0               0                    0   \n",
              "2                  0              0               0                    1   \n",
              "3                  0              0               1                    0   \n",
              "4                  0              0               1                    0   \n",
              "\n",
              "   Airline_Jet Airways Business  Airline_Multiple carriers  \\\n",
              "0                             0                          0   \n",
              "1                             0                          0   \n",
              "2                             0                          0   \n",
              "3                             0                          0   \n",
              "4                             0                          0   \n",
              "\n",
              "   Airline_Multiple carriers Premium economy  Airline_SpiceJet  \\\n",
              "0                                          0                 0   \n",
              "1                                          0                 0   \n",
              "2                                          0                 0   \n",
              "3                                          0                 0   \n",
              "4                                          0                 0   \n",
              "\n",
              "   Airline_Trujet  Airline_Vistara  Airline_Vistara Premium economy  \n",
              "0               0                0                                0  \n",
              "1               0                0                                0  \n",
              "2               0                0                                0  \n",
              "3               0                0                                0  \n",
              "4               0                0                                0  "
            ]
          },
          "metadata": {
            "tags": []
          },
          "execution_count": 51
        }
      ]
    },
    {
      "cell_type": "code",
      "metadata": {
        "colab": {
          "base_uri": "https://localhost:8080/"
        },
        "id": "gkvMFryVHXXf",
        "outputId": "bf4d0a59-314b-42cb-ea75-644b1d05f374"
      },
      "source": [
        "train_data[\"Source\"].value_counts()"
      ],
      "execution_count": 52,
      "outputs": [
        {
          "output_type": "execute_result",
          "data": {
            "text/plain": [
              "Delhi       4536\n",
              "Kolkata     2871\n",
              "Banglore    2197\n",
              "Mumbai       697\n",
              "Chennai      381\n",
              "Name: Source, dtype: int64"
            ]
          },
          "metadata": {
            "tags": []
          },
          "execution_count": 52
        }
      ]
    },
    {
      "cell_type": "code",
      "metadata": {
        "colab": {
          "base_uri": "https://localhost:8080/",
          "height": 307
        },
        "id": "1P2oSyOvKa63",
        "outputId": "5dfa55f9-6f14-4173-9950-df70b0b6d8ee"
      },
      "source": [
        "# Source vs Price\n",
        "\n",
        "sns.catplot(y = \"Price\", x = \"Source\", data = train_data.sort_values(\"Price\", ascending = False), kind=\"boxen\", height = 4, aspect = 3)\n",
        "plt.show()"
      ],
      "execution_count": 54,
      "outputs": [
        {
          "output_type": "display_data",
          "data": {
            "image/png": "[encoded data removed]",
            "text/plain": [
              "<Figure size 864x288 with 1 Axes>"
            ]
          },
          "metadata": {
            "tags": [],
            "needs_background": "light"
          }
        }
      ]
    },
    {
      "cell_type": "code",
      "metadata": {
        "colab": {
          "base_uri": "https://localhost:8080/",
          "height": 206
        },
        "id": "RSALu0NhKa9O",
        "outputId": "1b1d27b3-2e09-46fb-c086-91aa31b8d72e"
      },
      "source": [
        "# As Source is Nominal Categorical data we will perform OneHotEncoding\n",
        "\n",
        "Source = train_data[[\"Source\"]]\n",
        "\n",
        "Source = pd.get_dummies(Source, drop_first= True)\n",
        "\n",
        "Source.head()"
      ],
      "execution_count": 55,
      "outputs": [
        {
          "output_type": "execute_result",
          "data": {
            "text/html": [
              "<div>\n",
              "<style scoped>\n",
              "    .dataframe tbody tr th:only-of-type {\n",
              "        vertical-align: middle;\n",
              "    }\n",
              "\n",
              "    .dataframe tbody tr th {\n",
              "        vertical-align: top;\n",
              "    }\n",
              "\n",
              "    .dataframe thead th {\n",
              "        text-align: right;\n",
              "    }\n",
              "</style>\n",
              "<table border=\"1\" class=\"dataframe\">\n",
              "  <thead>\n",
              "    <tr style=\"text-align: right;\">\n",
              "      <th></th>\n",
              "      <th>Source_Chennai</th>\n",
              "      <th>Source_Delhi</th>\n",
              "      <th>Source_Kolkata</th>\n",
              "      <th>Source_Mumbai</th>\n",
              "    </tr>\n",
              "  </thead>\n",
              "  <tbody>\n",
              "    <tr>\n",
              "      <th>0</th>\n",
              "      <td>0</td>\n",
              "      <td>0</td>\n",
              "      <td>0</td>\n",
              "      <td>0</td>\n",
              "    </tr>\n",
              "    <tr>\n",
              "      <th>1</th>\n",
              "      <td>0</td>\n",
              "      <td>0</td>\n",
              "      <td>1</td>\n",
              "      <td>0</td>\n",
              "    </tr>\n",
              "    <tr>\n",
              "      <th>2</th>\n",
              "      <td>0</td>\n",
              "      <td>1</td>\n",
              "      <td>0</td>\n",
              "      <td>0</td>\n",
              "    </tr>\n",
              "    <tr>\n",
              "      <th>3</th>\n",
              "      <td>0</td>\n",
              "      <td>0</td>\n",
              "      <td>1</td>\n",
              "      <td>0</td>\n",
              "    </tr>\n",
              "    <tr>\n",
              "      <th>4</th>\n",
              "      <td>0</td>\n",
              "      <td>0</td>\n",
              "      <td>0</td>\n",
              "      <td>0</td>\n",
              "    </tr>\n",
              "  </tbody>\n",
              "</table>\n",
              "</div>"
            ],
            "text/plain": [
              "   Source_Chennai  Source_Delhi  Source_Kolkata  Source_Mumbai\n",
              "0               0             0               0              0\n",
              "1               0             0               1              0\n",
              "2               0             1               0              0\n",
              "3               0             0               1              0\n",
              "4               0             0               0              0"
            ]
          },
          "metadata": {
            "tags": []
          },
          "execution_count": 55
        }
      ]
    },
    {
      "cell_type": "code",
      "metadata": {
        "colab": {
          "base_uri": "https://localhost:8080/"
        },
        "id": "PZKP2Rz_Ka_T",
        "outputId": "816891bd-f3d2-4170-bd12-4d38e0ac72f3"
      },
      "source": [
        "train_data[\"Destination\"].value_counts()"
      ],
      "execution_count": 56,
      "outputs": [
        {
          "output_type": "execute_result",
          "data": {
            "text/plain": [
              "Cochin       4536\n",
              "Banglore     2871\n",
              "Delhi        1265\n",
              "New Delhi     932\n",
              "Hyderabad     697\n",
              "Kolkata       381\n",
              "Name: Destination, dtype: int64"
            ]
          },
          "metadata": {
            "tags": []
          },
          "execution_count": 56
        }
      ]
    },
    {
      "cell_type": "code",
      "metadata": {
        "colab": {
          "base_uri": "https://localhost:8080/",
          "height": 206
        },
        "id": "F1h1iHPoKbBQ",
        "outputId": "5d4cb73b-749f-4bda-9fa6-9408dac03360"
      },
      "source": [
        "# As Destination is Nominal Categorical data we will perform OneHotEncoding\n",
        "\n",
        "Destination = train_data[[\"Destination\"]]\n",
        "\n",
        "Destination = pd.get_dummies(Destination, drop_first = True)\n",
        "\n",
        "Destination.head()"
      ],
      "execution_count": 57,
      "outputs": [
        {
          "output_type": "execute_result",
          "data": {
            "text/html": [
              "<div>\n",
              "<style scoped>\n",
              "    .dataframe tbody tr th:only-of-type {\n",
              "        vertical-align: middle;\n",
              "    }\n",
              "\n",
              "    .dataframe tbody tr th {\n",
              "        vertical-align: top;\n",
              "    }\n",
              "\n",
              "    .dataframe thead th {\n",
              "        text-align: right;\n",
              "    }\n",
              "</style>\n",
              "<table border=\"1\" class=\"dataframe\">\n",
              "  <thead>\n",
              "    <tr style=\"text-align: right;\">\n",
              "      <th></th>\n",
              "      <th>Destination_Cochin</th>\n",
              "      <th>Destination_Delhi</th>\n",
              "      <th>Destination_Hyderabad</th>\n",
              "      <th>Destination_Kolkata</th>\n",
              "      <th>Destination_New Delhi</th>\n",
              "    </tr>\n",
              "  </thead>\n",
              "  <tbody>\n",
              "    <tr>\n",
              "      <th>0</th>\n",
              "      <td>0</td>\n",
              "      <td>0</td>\n",
              "      <td>0</td>\n",
              "      <td>0</td>\n",
              "      <td>1</td>\n",
              "    </tr>\n",
              "    <tr>\n",
              "      <th>1</th>\n",
              "      <td>0</td>\n",
              "      <td>0</td>\n",
              "      <td>0</td>\n",
              "      <td>0</td>\n",
              "      <td>0</td>\n",
              "    </tr>\n",
              "    <tr>\n",
              "      <th>2</th>\n",
              "      <td>1</td>\n",
              "      <td>0</td>\n",
              "      <td>0</td>\n",
              "      <td>0</td>\n",
              "      <td>0</td>\n",
              "    </tr>\n",
              "    <tr>\n",
              "      <th>3</th>\n",
              "      <td>0</td>\n",
              "      <td>0</td>\n",
              "      <td>0</td>\n",
              "      <td>0</td>\n",
              "      <td>0</td>\n",
              "    </tr>\n",
              "    <tr>\n",
              "      <th>4</th>\n",
              "      <td>0</td>\n",
              "      <td>0</td>\n",
              "      <td>0</td>\n",
              "      <td>0</td>\n",
              "      <td>1</td>\n",
              "    </tr>\n",
              "  </tbody>\n",
              "</table>\n",
              "</div>"
            ],
            "text/plain": [
              "   Destination_Cochin  Destination_Delhi  Destination_Hyderabad  \\\n",
              "0                   0                  0                      0   \n",
              "1                   0                  0                      0   \n",
              "2                   1                  0                      0   \n",
              "3                   0                  0                      0   \n",
              "4                   0                  0                      0   \n",
              "\n",
              "   Destination_Kolkata  Destination_New Delhi  \n",
              "0                    0                      1  \n",
              "1                    0                      0  \n",
              "2                    0                      0  \n",
              "3                    0                      0  \n",
              "4                    0                      1  "
            ]
          },
          "metadata": {
            "tags": []
          },
          "execution_count": 57
        }
      ]
    },
    {
      "cell_type": "code",
      "metadata": {
        "colab": {
          "base_uri": "https://localhost:8080/"
        },
        "id": "YOjBMnsPKbDf",
        "outputId": "a6e789f3-bec2-4044-bfff-e33b21a69807"
      },
      "source": [
        "train_data[\"Route\"]"
      ],
      "execution_count": 58,
      "outputs": [
        {
          "output_type": "execute_result",
          "data": {
            "text/plain": [
              "0                    BLR → DEL\n",
              "1        CCU → IXR → BBI → BLR\n",
              "2        DEL → LKO → BOM → COK\n",
              "3              CCU → NAG → BLR\n",
              "4              BLR → NAG → DEL\n",
              "                 ...          \n",
              "10678                CCU → BLR\n",
              "10679                CCU → BLR\n",
              "10680                BLR → DEL\n",
              "10681                BLR → DEL\n",
              "10682    DEL → GOI → BOM → COK\n",
              "Name: Route, Length: 10682, dtype: object"
            ]
          },
          "metadata": {
            "tags": []
          },
          "execution_count": 58
        }
      ]
    },
    {
      "cell_type": "code",
      "metadata": {
        "id": "xkCSPo72VKJP"
      },
      "source": [
        "# Additional_Info contains almost 80% no_info\n",
        "# Route and Total_Stops are related to each other\n",
        "\n",
        "train_data.drop([\"Route\", \"Additional_Info\"], axis = 1, inplace = True)"
      ],
      "execution_count": 59,
      "outputs": []
    },
    {
      "cell_type": "code",
      "metadata": {
        "colab": {
          "base_uri": "https://localhost:8080/"
        },
        "id": "ylct5-UMVKL6",
        "outputId": "7ff68fc2-9239-4046-83a2-864519e83d6b"
      },
      "source": [
        "train_data[\"Total_Stops\"].value_counts()"
      ],
      "execution_count": 60,
      "outputs": [
        {
          "output_type": "execute_result",
          "data": {
            "text/plain": [
              "1 stop      5625\n",
              "non-stop    3491\n",
              "2 stops     1520\n",
              "3 stops       45\n",
              "4 stops        1\n",
              "Name: Total_Stops, dtype: int64"
            ]
          },
          "metadata": {
            "tags": []
          },
          "execution_count": 60
        }
      ]
    },
    {
      "cell_type": "code",
      "metadata": {
        "id": "l4es7VphVKOb"
      },
      "source": [
        "#As this is case of Ordinal Categorical type we perform LabelEncoder\n",
        "# Here Values are assigned with corresponding keys\n",
        "\n",
        "train_data.replace({\"non-stop\": 0, \"1 stop\": 1, \"2 stops\": 2, \"3 stops\": 3, \"4 stops\": 4}, inplace = True)"
      ],
      "execution_count": 61,
      "outputs": []
    },
    {
      "cell_type": "code",
      "metadata": {
        "colab": {
          "base_uri": "https://localhost:8080/",
          "height": 243
        },
        "id": "COSkKq5wVKol",
        "outputId": "388aba09-3143-479d-f0a5-292a67123e08"
      },
      "source": [
        "train_data.head()"
      ],
      "execution_count": 62,
      "outputs": [
        {
          "output_type": "execute_result",
          "data": {
            "text/html": [
              "<div>\n",
              "<style scoped>\n",
              "    .dataframe tbody tr th:only-of-type {\n",
              "        vertical-align: middle;\n",
              "    }\n",
              "\n",
              "    .dataframe tbody tr th {\n",
              "        vertical-align: top;\n",
              "    }\n",
              "\n",
              "    .dataframe thead th {\n",
              "        text-align: right;\n",
              "    }\n",
              "</style>\n",
              "<table border=\"1\" class=\"dataframe\">\n",
              "  <thead>\n",
              "    <tr style=\"text-align: right;\">\n",
              "      <th></th>\n",
              "      <th>Airline</th>\n",
              "      <th>Source</th>\n",
              "      <th>Destination</th>\n",
              "      <th>Arrival_Time</th>\n",
              "      <th>Total_Stops</th>\n",
              "      <th>Price</th>\n",
              "      <th>Journey_day</th>\n",
              "      <th>Journey_month</th>\n",
              "      <th>Dep_hour</th>\n",
              "      <th>Dep_minute</th>\n",
              "      <th>Duration_hours</th>\n",
              "      <th>Duration_mins</th>\n",
              "    </tr>\n",
              "  </thead>\n",
              "  <tbody>\n",
              "    <tr>\n",
              "      <th>0</th>\n",
              "      <td>IndiGo</td>\n",
              "      <td>Banglore</td>\n",
              "      <td>New Delhi</td>\n",
              "      <td>01:10 22 Mar</td>\n",
              "      <td>0</td>\n",
              "      <td>3897</td>\n",
              "      <td>24</td>\n",
              "      <td>3</td>\n",
              "      <td>22</td>\n",
              "      <td>20</td>\n",
              "      <td>2</td>\n",
              "      <td>50</td>\n",
              "    </tr>\n",
              "    <tr>\n",
              "      <th>1</th>\n",
              "      <td>Air India</td>\n",
              "      <td>Kolkata</td>\n",
              "      <td>Banglore</td>\n",
              "      <td>13:15</td>\n",
              "      <td>2</td>\n",
              "      <td>7662</td>\n",
              "      <td>1</td>\n",
              "      <td>5</td>\n",
              "      <td>5</td>\n",
              "      <td>50</td>\n",
              "      <td>7</td>\n",
              "      <td>25</td>\n",
              "    </tr>\n",
              "    <tr>\n",
              "      <th>2</th>\n",
              "      <td>Jet Airways</td>\n",
              "      <td>Delhi</td>\n",
              "      <td>Cochin</td>\n",
              "      <td>04:25 10 Jun</td>\n",
              "      <td>2</td>\n",
              "      <td>13882</td>\n",
              "      <td>9</td>\n",
              "      <td>6</td>\n",
              "      <td>9</td>\n",
              "      <td>25</td>\n",
              "      <td>19</td>\n",
              "      <td>0</td>\n",
              "    </tr>\n",
              "    <tr>\n",
              "      <th>3</th>\n",
              "      <td>IndiGo</td>\n",
              "      <td>Kolkata</td>\n",
              "      <td>Banglore</td>\n",
              "      <td>23:30</td>\n",
              "      <td>1</td>\n",
              "      <td>6218</td>\n",
              "      <td>12</td>\n",
              "      <td>5</td>\n",
              "      <td>18</td>\n",
              "      <td>5</td>\n",
              "      <td>5</td>\n",
              "      <td>25</td>\n",
              "    </tr>\n",
              "    <tr>\n",
              "      <th>4</th>\n",
              "      <td>IndiGo</td>\n",
              "      <td>Banglore</td>\n",
              "      <td>New Delhi</td>\n",
              "      <td>21:35</td>\n",
              "      <td>1</td>\n",
              "      <td>13302</td>\n",
              "      <td>1</td>\n",
              "      <td>3</td>\n",
              "      <td>16</td>\n",
              "      <td>50</td>\n",
              "      <td>4</td>\n",
              "      <td>45</td>\n",
              "    </tr>\n",
              "  </tbody>\n",
              "</table>\n",
              "</div>"
            ],
            "text/plain": [
              "       Airline    Source Destination  Arrival_Time  Total_Stops  Price  \\\n",
              "0       IndiGo  Banglore   New Delhi  01:10 22 Mar            0   3897   \n",
              "1    Air India   Kolkata    Banglore         13:15            2   7662   \n",
              "2  Jet Airways     Delhi      Cochin  04:25 10 Jun            2  13882   \n",
              "3       IndiGo   Kolkata    Banglore         23:30            1   6218   \n",
              "4       IndiGo  Banglore   New Delhi         21:35            1  13302   \n",
              "\n",
              "   Journey_day  Journey_month  Dep_hour  Dep_minute  Duration_hours  \\\n",
              "0           24              3        22          20               2   \n",
              "1            1              5         5          50               7   \n",
              "2            9              6         9          25              19   \n",
              "3           12              5        18           5               5   \n",
              "4            1              3        16          50               4   \n",
              "\n",
              "   Duration_mins  \n",
              "0             50  \n",
              "1             25  \n",
              "2              0  \n",
              "3             25  \n",
              "4             45  "
            ]
          },
          "metadata": {
            "tags": []
          },
          "execution_count": 62
        }
      ]
    },
    {
      "cell_type": "code",
      "metadata": {
        "id": "-R_exi8IVKri"
      },
      "source": [
        "# Concatenate dataframe --> train_data + Airline + Source + Destination\n",
        "\n",
        "data_train = pd.concat([train_data, Airline, Source, Destination], axis = 1)"
      ],
      "execution_count": 63,
      "outputs": []
    },
    {
      "cell_type": "code",
      "metadata": {
        "colab": {
          "base_uri": "https://localhost:8080/",
          "height": 278
        },
        "id": "7AdpImTzVKuu",
        "outputId": "ded67bd1-8a26-4994-e956-dadcc2311e15"
      },
      "source": [
        "data_train.head()"
      ],
      "execution_count": 64,
      "outputs": [
        {
          "output_type": "execute_result",
          "data": {
            "text/html": [
              "<div>\n",
              "<style scoped>\n",
              "    .dataframe tbody tr th:only-of-type {\n",
              "        vertical-align: middle;\n",
              "    }\n",
              "\n",
              "    .dataframe tbody tr th {\n",
              "        vertical-align: top;\n",
              "    }\n",
              "\n",
              "    .dataframe thead th {\n",
              "        text-align: right;\n",
              "    }\n",
              "</style>\n",
              "<table border=\"1\" class=\"dataframe\">\n",
              "  <thead>\n",
              "    <tr style=\"text-align: right;\">\n",
              "      <th></th>\n",
              "      <th>Airline</th>\n",
              "      <th>Source</th>\n",
              "      <th>Destination</th>\n",
              "      <th>Arrival_Time</th>\n",
              "      <th>Total_Stops</th>\n",
              "      <th>Price</th>\n",
              "      <th>Journey_day</th>\n",
              "      <th>Journey_month</th>\n",
              "      <th>Dep_hour</th>\n",
              "      <th>Dep_minute</th>\n",
              "      <th>Duration_hours</th>\n",
              "      <th>Duration_mins</th>\n",
              "      <th>Airline_Air India</th>\n",
              "      <th>Airline_GoAir</th>\n",
              "      <th>Airline_IndiGo</th>\n",
              "      <th>Airline_Jet Airways</th>\n",
              "      <th>Airline_Jet Airways Business</th>\n",
              "      <th>Airline_Multiple carriers</th>\n",
              "      <th>Airline_Multiple carriers Premium economy</th>\n",
              "      <th>Airline_SpiceJet</th>\n",
              "      <th>Airline_Trujet</th>\n",
              "      <th>Airline_Vistara</th>\n",
              "      <th>Airline_Vistara Premium economy</th>\n",
              "      <th>Source_Chennai</th>\n",
              "      <th>Source_Delhi</th>\n",
              "      <th>Source_Kolkata</th>\n",
              "      <th>Source_Mumbai</th>\n",
              "      <th>Destination_Cochin</th>\n",
              "      <th>Destination_Delhi</th>\n",
              "      <th>Destination_Hyderabad</th>\n",
              "      <th>Destination_Kolkata</th>\n",
              "      <th>Destination_New Delhi</th>\n",
              "    </tr>\n",
              "  </thead>\n",
              "  <tbody>\n",
              "    <tr>\n",
              "      <th>0</th>\n",
              "      <td>IndiGo</td>\n",
              "      <td>Banglore</td>\n",
              "      <td>New Delhi</td>\n",
              "      <td>01:10 22 Mar</td>\n",
              "      <td>0</td>\n",
              "      <td>3897</td>\n",
              "      <td>24</td>\n",
              "      <td>3</td>\n",
              "      <td>22</td>\n",
              "      <td>20</td>\n",
              "      <td>2</td>\n",
              "      <td>50</td>\n",
              "      <td>0</td>\n",
              "      <td>0</td>\n",
              "      <td>1</td>\n",
              "      <td>0</td>\n",
              "      <td>0</td>\n",
              "      <td>0</td>\n",
              "      <td>0</td>\n",
              "      <td>0</td>\n",
              "      <td>0</td>\n",
              "      <td>0</td>\n",
              "      <td>0</td>\n",
              "      <td>0</td>\n",
              "      <td>0</td>\n",
              "      <td>0</td>\n",
              "      <td>0</td>\n",
              "      <td>0</td>\n",
              "      <td>0</td>\n",
              "      <td>0</td>\n",
              "      <td>0</td>\n",
              "      <td>1</td>\n",
              "    </tr>\n",
              "    <tr>\n",
              "      <th>1</th>\n",
              "      <td>Air India</td>\n",
              "      <td>Kolkata</td>\n",
              "      <td>Banglore</td>\n",
              "      <td>13:15</td>\n",
              "      <td>2</td>\n",
              "      <td>7662</td>\n",
              "      <td>1</td>\n",
              "      <td>5</td>\n",
              "      <td>5</td>\n",
              "      <td>50</td>\n",
              "      <td>7</td>\n",
              "      <td>25</td>\n",
              "      <td>1</td>\n",
              "      <td>0</td>\n",
              "      <td>0</td>\n",
              "      <td>0</td>\n",
              "      <td>0</td>\n",
              "      <td>0</td>\n",
              "      <td>0</td>\n",
              "      <td>0</td>\n",
              "      <td>0</td>\n",
              "      <td>0</td>\n",
              "      <td>0</td>\n",
              "      <td>0</td>\n",
              "      <td>0</td>\n",
              "      <td>1</td>\n",
              "      <td>0</td>\n",
              "      <td>0</td>\n",
              "      <td>0</td>\n",
              "      <td>0</td>\n",
              "      <td>0</td>\n",
              "      <td>0</td>\n",
              "    </tr>\n",
              "    <tr>\n",
              "      <th>2</th>\n",
              "      <td>Jet Airways</td>\n",
              "      <td>Delhi</td>\n",
              "      <td>Cochin</td>\n",
              "      <td>04:25 10 Jun</td>\n",
              "      <td>2</td>\n",
              "      <td>13882</td>\n",
              "      <td>9</td>\n",
              "      <td>6</td>\n",
              "      <td>9</td>\n",
              "      <td>25</td>\n",
              "      <td>19</td>\n",
              "      <td>0</td>\n",
              "      <td>0</td>\n",
              "      <td>0</td>\n",
              "      <td>0</td>\n",
              "      <td>1</td>\n",
              "      <td>0</td>\n",
              "      <td>0</td>\n",
              "      <td>0</td>\n",
              "      <td>0</td>\n",
              "      <td>0</td>\n",
              "      <td>0</td>\n",
              "      <td>0</td>\n",
              "      <td>0</td>\n",
              "      <td>1</td>\n",
              "      <td>0</td>\n",
              "      <td>0</td>\n",
              "      <td>1</td>\n",
              "      <td>0</td>\n",
              "      <td>0</td>\n",
              "      <td>0</td>\n",
              "      <td>0</td>\n",
              "    </tr>\n",
              "    <tr>\n",
              "      <th>3</th>\n",
              "      <td>IndiGo</td>\n",
              "      <td>Kolkata</td>\n",
              "      <td>Banglore</td>\n",
              "      <td>23:30</td>\n",
              "      <td>1</td>\n",
              "      <td>6218</td>\n",
              "      <td>12</td>\n",
              "      <td>5</td>\n",
              "      <td>18</td>\n",
              "      <td>5</td>\n",
              "      <td>5</td>\n",
              "      <td>25</td>\n",
              "      <td>0</td>\n",
              "      <td>0</td>\n",
              "      <td>1</td>\n",
              "      <td>0</td>\n",
              "      <td>0</td>\n",
              "      <td>0</td>\n",
              "      <td>0</td>\n",
              "      <td>0</td>\n",
              "      <td>0</td>\n",
              "      <td>0</td>\n",
              "      <td>0</td>\n",
              "      <td>0</td>\n",
              "      <td>0</td>\n",
              "      <td>1</td>\n",
              "      <td>0</td>\n",
              "      <td>0</td>\n",
              "      <td>0</td>\n",
              "      <td>0</td>\n",
              "      <td>0</td>\n",
              "      <td>0</td>\n",
              "    </tr>\n",
              "    <tr>\n",
              "      <th>4</th>\n",
              "      <td>IndiGo</td>\n",
              "      <td>Banglore</td>\n",
              "      <td>New Delhi</td>\n",
              "      <td>21:35</td>\n",
              "      <td>1</td>\n",
              "      <td>13302</td>\n",
              "      <td>1</td>\n",
              "      <td>3</td>\n",
              "      <td>16</td>\n",
              "      <td>50</td>\n",
              "      <td>4</td>\n",
              "      <td>45</td>\n",
              "      <td>0</td>\n",
              "      <td>0</td>\n",
              "      <td>1</td>\n",
              "      <td>0</td>\n",
              "      <td>0</td>\n",
              "      <td>0</td>\n",
              "      <td>0</td>\n",
              "      <td>0</td>\n",
              "      <td>0</td>\n",
              "      <td>0</td>\n",
              "      <td>0</td>\n",
              "      <td>0</td>\n",
              "      <td>0</td>\n",
              "      <td>0</td>\n",
              "      <td>0</td>\n",
              "      <td>0</td>\n",
              "      <td>0</td>\n",
              "      <td>0</td>\n",
              "      <td>0</td>\n",
              "      <td>1</td>\n",
              "    </tr>\n",
              "  </tbody>\n",
              "</table>\n",
              "</div>"
            ],
            "text/plain": [
              "       Airline    Source Destination  Arrival_Time  Total_Stops  Price  \\\n",
              "0       IndiGo  Banglore   New Delhi  01:10 22 Mar            0   3897   \n",
              "1    Air India   Kolkata    Banglore         13:15            2   7662   \n",
              "2  Jet Airways     Delhi      Cochin  04:25 10 Jun            2  13882   \n",
              "3       IndiGo   Kolkata    Banglore         23:30            1   6218   \n",
              "4       IndiGo  Banglore   New Delhi         21:35            1  13302   \n",
              "\n",
              "   Journey_day  Journey_month  Dep_hour  Dep_minute  Duration_hours  \\\n",
              "0           24              3        22          20               2   \n",
              "1            1              5         5          50               7   \n",
              "2            9              6         9          25              19   \n",
              "3           12              5        18           5               5   \n",
              "4            1              3        16          50               4   \n",
              "\n",
              "   Duration_mins  Airline_Air India  Airline_GoAir  Airline_IndiGo  \\\n",
              "0             50                  0              0               1   \n",
              "1             25                  1              0               0   \n",
              "2              0                  0              0               0   \n",
              "3             25                  0              0               1   \n",
              "4             45                  0              0               1   \n",
              "\n",
              "   Airline_Jet Airways  Airline_Jet Airways Business  \\\n",
              "0                    0                             0   \n",
              "1                    0                             0   \n",
              "2                    1                             0   \n",
              "3                    0                             0   \n",
              "4                    0                             0   \n",
              "\n",
              "   Airline_Multiple carriers  Airline_Multiple carriers Premium economy  \\\n",
              "0                          0                                          0   \n",
              "1                          0                                          0   \n",
              "2                          0                                          0   \n",
              "3                          0                                          0   \n",
              "4                          0                                          0   \n",
              "\n",
              "   Airline_SpiceJet  Airline_Trujet  Airline_Vistara  \\\n",
              "0                 0               0                0   \n",
              "1                 0               0                0   \n",
              "2                 0               0                0   \n",
              "3                 0               0                0   \n",
              "4                 0               0                0   \n",
              "\n",
              "   Airline_Vistara Premium economy  Source_Chennai  Source_Delhi  \\\n",
              "0                                0               0             0   \n",
              "1                                0               0             0   \n",
              "2                                0               0             1   \n",
              "3                                0               0             0   \n",
              "4                                0               0             0   \n",
              "\n",
              "   Source_Kolkata  Source_Mumbai  Destination_Cochin  Destination_Delhi  \\\n",
              "0               0              0                   0                  0   \n",
              "1               1              0                   0                  0   \n",
              "2               0              0                   1                  0   \n",
              "3               1              0                   0                  0   \n",
              "4               0              0                   0                  0   \n",
              "\n",
              "   Destination_Hyderabad  Destination_Kolkata  Destination_New Delhi  \n",
              "0                      0                    0                      1  \n",
              "1                      0                    0                      0  \n",
              "2                      0                    0                      0  \n",
              "3                      0                    0                      0  \n",
              "4                      0                    0                      1  "
            ]
          },
          "metadata": {
            "tags": []
          },
          "execution_count": 64
        }
      ]
    },
    {
      "cell_type": "code",
      "metadata": {
        "id": "LWQq9N3WVK2_"
      },
      "source": [
        "data_train.drop([\"Airline\", \"Source\", \"Destination\"], axis = 1, inplace = True)"
      ],
      "execution_count": 65,
      "outputs": []
    },
    {
      "cell_type": "code",
      "metadata": {
        "colab": {
          "base_uri": "https://localhost:8080/",
          "height": 261
        },
        "id": "rCgB0h42VK56",
        "outputId": "0efbf9fa-983b-47db-9929-1260555295ca"
      },
      "source": [
        "data_train.head()"
      ],
      "execution_count": 67,
      "outputs": [
        {
          "output_type": "execute_result",
          "data": {
            "text/html": [
              "<div>\n",
              "<style scoped>\n",
              "    .dataframe tbody tr th:only-of-type {\n",
              "        vertical-align: middle;\n",
              "    }\n",
              "\n",
              "    .dataframe tbody tr th {\n",
              "        vertical-align: top;\n",
              "    }\n",
              "\n",
              "    .dataframe thead th {\n",
              "        text-align: right;\n",
              "    }\n",
              "</style>\n",
              "<table border=\"1\" class=\"dataframe\">\n",
              "  <thead>\n",
              "    <tr style=\"text-align: right;\">\n",
              "      <th></th>\n",
              "      <th>Arrival_Time</th>\n",
              "      <th>Total_Stops</th>\n",
              "      <th>Price</th>\n",
              "      <th>Journey_day</th>\n",
              "      <th>Journey_month</th>\n",
              "      <th>Dep_hour</th>\n",
              "      <th>Dep_minute</th>\n",
              "      <th>Duration_hours</th>\n",
              "      <th>Duration_mins</th>\n",
              "      <th>Airline_Air India</th>\n",
              "      <th>Airline_GoAir</th>\n",
              "      <th>Airline_IndiGo</th>\n",
              "      <th>Airline_Jet Airways</th>\n",
              "      <th>Airline_Jet Airways Business</th>\n",
              "      <th>Airline_Multiple carriers</th>\n",
              "      <th>Airline_Multiple carriers Premium economy</th>\n",
              "      <th>Airline_SpiceJet</th>\n",
              "      <th>Airline_Trujet</th>\n",
              "      <th>Airline_Vistara</th>\n",
              "      <th>Airline_Vistara Premium economy</th>\n",
              "      <th>Source_Chennai</th>\n",
              "      <th>Source_Delhi</th>\n",
              "      <th>Source_Kolkata</th>\n",
              "      <th>Source_Mumbai</th>\n",
              "      <th>Destination_Cochin</th>\n",
              "      <th>Destination_Delhi</th>\n",
              "      <th>Destination_Hyderabad</th>\n",
              "      <th>Destination_Kolkata</th>\n",
              "      <th>Destination_New Delhi</th>\n",
              "    </tr>\n",
              "  </thead>\n",
              "  <tbody>\n",
              "    <tr>\n",
              "      <th>0</th>\n",
              "      <td>01:10 22 Mar</td>\n",
              "      <td>0</td>\n",
              "      <td>3897</td>\n",
              "      <td>24</td>\n",
              "      <td>3</td>\n",
              "      <td>22</td>\n",
              "      <td>20</td>\n",
              "      <td>2</td>\n",
              "      <td>50</td>\n",
              "      <td>0</td>\n",
              "      <td>0</td>\n",
              "      <td>1</td>\n",
              "      <td>0</td>\n",
              "      <td>0</td>\n",
              "      <td>0</td>\n",
              "      <td>0</td>\n",
              "      <td>0</td>\n",
              "      <td>0</td>\n",
              "      <td>0</td>\n",
              "      <td>0</td>\n",
              "      <td>0</td>\n",
              "      <td>0</td>\n",
              "      <td>0</td>\n",
              "      <td>0</td>\n",
              "      <td>0</td>\n",
              "      <td>0</td>\n",
              "      <td>0</td>\n",
              "      <td>0</td>\n",
              "      <td>1</td>\n",
              "    </tr>\n",
              "    <tr>\n",
              "      <th>1</th>\n",
              "      <td>13:15</td>\n",
              "      <td>2</td>\n",
              "      <td>7662</td>\n",
              "      <td>1</td>\n",
              "      <td>5</td>\n",
              "      <td>5</td>\n",
              "      <td>50</td>\n",
              "      <td>7</td>\n",
              "      <td>25</td>\n",
              "      <td>1</td>\n",
              "      <td>0</td>\n",
              "      <td>0</td>\n",
              "      <td>0</td>\n",
              "      <td>0</td>\n",
              "      <td>0</td>\n",
              "      <td>0</td>\n",
              "      <td>0</td>\n",
              "      <td>0</td>\n",
              "      <td>0</td>\n",
              "      <td>0</td>\n",
              "      <td>0</td>\n",
              "      <td>0</td>\n",
              "      <td>1</td>\n",
              "      <td>0</td>\n",
              "      <td>0</td>\n",
              "      <td>0</td>\n",
              "      <td>0</td>\n",
              "      <td>0</td>\n",
              "      <td>0</td>\n",
              "    </tr>\n",
              "    <tr>\n",
              "      <th>2</th>\n",
              "      <td>04:25 10 Jun</td>\n",
              "      <td>2</td>\n",
              "      <td>13882</td>\n",
              "      <td>9</td>\n",
              "      <td>6</td>\n",
              "      <td>9</td>\n",
              "      <td>25</td>\n",
              "      <td>19</td>\n",
              "      <td>0</td>\n",
              "      <td>0</td>\n",
              "      <td>0</td>\n",
              "      <td>0</td>\n",
              "      <td>1</td>\n",
              "      <td>0</td>\n",
              "      <td>0</td>\n",
              "      <td>0</td>\n",
              "      <td>0</td>\n",
              "      <td>0</td>\n",
              "      <td>0</td>\n",
              "      <td>0</td>\n",
              "      <td>0</td>\n",
              "      <td>1</td>\n",
              "      <td>0</td>\n",
              "      <td>0</td>\n",
              "      <td>1</td>\n",
              "      <td>0</td>\n",
              "      <td>0</td>\n",
              "      <td>0</td>\n",
              "      <td>0</td>\n",
              "    </tr>\n",
              "    <tr>\n",
              "      <th>3</th>\n",
              "      <td>23:30</td>\n",
              "      <td>1</td>\n",
              "      <td>6218</td>\n",
              "      <td>12</td>\n",
              "      <td>5</td>\n",
              "      <td>18</td>\n",
              "      <td>5</td>\n",
              "      <td>5</td>\n",
              "      <td>25</td>\n",
              "      <td>0</td>\n",
              "      <td>0</td>\n",
              "      <td>1</td>\n",
              "      <td>0</td>\n",
              "      <td>0</td>\n",
              "      <td>0</td>\n",
              "      <td>0</td>\n",
              "      <td>0</td>\n",
              "      <td>0</td>\n",
              "      <td>0</td>\n",
              "      <td>0</td>\n",
              "      <td>0</td>\n",
              "      <td>0</td>\n",
              "      <td>1</td>\n",
              "      <td>0</td>\n",
              "      <td>0</td>\n",
              "      <td>0</td>\n",
              "      <td>0</td>\n",
              "      <td>0</td>\n",
              "      <td>0</td>\n",
              "    </tr>\n",
              "    <tr>\n",
              "      <th>4</th>\n",
              "      <td>21:35</td>\n",
              "      <td>1</td>\n",
              "      <td>13302</td>\n",
              "      <td>1</td>\n",
              "      <td>3</td>\n",
              "      <td>16</td>\n",
              "      <td>50</td>\n",
              "      <td>4</td>\n",
              "      <td>45</td>\n",
              "      <td>0</td>\n",
              "      <td>0</td>\n",
              "      <td>1</td>\n",
              "      <td>0</td>\n",
              "      <td>0</td>\n",
              "      <td>0</td>\n",
              "      <td>0</td>\n",
              "      <td>0</td>\n",
              "      <td>0</td>\n",
              "      <td>0</td>\n",
              "      <td>0</td>\n",
              "      <td>0</td>\n",
              "      <td>0</td>\n",
              "      <td>0</td>\n",
              "      <td>0</td>\n",
              "      <td>0</td>\n",
              "      <td>0</td>\n",
              "      <td>0</td>\n",
              "      <td>0</td>\n",
              "      <td>1</td>\n",
              "    </tr>\n",
              "  </tbody>\n",
              "</table>\n",
              "</div>"
            ],
            "text/plain": [
              "   Arrival_Time  Total_Stops  Price  Journey_day  Journey_month  Dep_hour  \\\n",
              "0  01:10 22 Mar            0   3897           24              3        22   \n",
              "1         13:15            2   7662            1              5         5   \n",
              "2  04:25 10 Jun            2  13882            9              6         9   \n",
              "3         23:30            1   6218           12              5        18   \n",
              "4         21:35            1  13302            1              3        16   \n",
              "\n",
              "   Dep_minute  Duration_hours  Duration_mins  Airline_Air India  \\\n",
              "0          20               2             50                  0   \n",
              "1          50               7             25                  1   \n",
              "2          25              19              0                  0   \n",
              "3           5               5             25                  0   \n",
              "4          50               4             45                  0   \n",
              "\n",
              "   Airline_GoAir  Airline_IndiGo  Airline_Jet Airways  \\\n",
              "0              0               1                    0   \n",
              "1              0               0                    0   \n",
              "2              0               0                    1   \n",
              "3              0               1                    0   \n",
              "4              0               1                    0   \n",
              "\n",
              "   Airline_Jet Airways Business  Airline_Multiple carriers  \\\n",
              "0                             0                          0   \n",
              "1                             0                          0   \n",
              "2                             0                          0   \n",
              "3                             0                          0   \n",
              "4                             0                          0   \n",
              "\n",
              "   Airline_Multiple carriers Premium economy  Airline_SpiceJet  \\\n",
              "0                                          0                 0   \n",
              "1                                          0                 0   \n",
              "2                                          0                 0   \n",
              "3                                          0                 0   \n",
              "4                                          0                 0   \n",
              "\n",
              "   Airline_Trujet  Airline_Vistara  Airline_Vistara Premium economy  \\\n",
              "0               0                0                                0   \n",
              "1               0                0                                0   \n",
              "2               0                0                                0   \n",
              "3               0                0                                0   \n",
              "4               0                0                                0   \n",
              "\n",
              "   Source_Chennai  Source_Delhi  Source_Kolkata  Source_Mumbai  \\\n",
              "0               0             0               0              0   \n",
              "1               0             0               1              0   \n",
              "2               0             1               0              0   \n",
              "3               0             0               1              0   \n",
              "4               0             0               0              0   \n",
              "\n",
              "   Destination_Cochin  Destination_Delhi  Destination_Hyderabad  \\\n",
              "0                   0                  0                      0   \n",
              "1                   0                  0                      0   \n",
              "2                   1                  0                      0   \n",
              "3                   0                  0                      0   \n",
              "4                   0                  0                      0   \n",
              "\n",
              "   Destination_Kolkata  Destination_New Delhi  \n",
              "0                    0                      1  \n",
              "1                    0                      0  \n",
              "2                    0                      0  \n",
              "3                    0                      0  \n",
              "4                    0                      1  "
            ]
          },
          "metadata": {
            "tags": []
          },
          "execution_count": 67
        }
      ]
    },
    {
      "cell_type": "markdown",
      "metadata": {
        "id": "rQgk55Wjm-Zb"
      },
      "source": [
        "**Test Set**"
      ]
    },
    {
      "cell_type": "code",
      "metadata": {
        "id": "4rS1AWLnKbFT"
      },
      "source": [
        "test_data = pd.read_excel(r\"/content/Test_set.xlsx\")"
      ],
      "execution_count": 68,
      "outputs": []
    },
    {
      "cell_type": "code",
      "metadata": {
        "colab": {
          "base_uri": "https://localhost:8080/",
          "height": 538
        },
        "id": "j9p_5RM5nO2R",
        "outputId": "d806bfe5-ee19-4906-8fd7-499f2f53b1f2"
      },
      "source": [
        "test_data.head()"
      ],
      "execution_count": 69,
      "outputs": [
        {
          "output_type": "execute_result",
          "data": {
            "text/html": [
              "<div>\n",
              "<style scoped>\n",
              "    .dataframe tbody tr th:only-of-type {\n",
              "        vertical-align: middle;\n",
              "    }\n",
              "\n",
              "    .dataframe tbody tr th {\n",
              "        vertical-align: top;\n",
              "    }\n",
              "\n",
              "    .dataframe thead th {\n",
              "        text-align: right;\n",
              "    }\n",
              "</style>\n",
              "<table border=\"1\" class=\"dataframe\">\n",
              "  <thead>\n",
              "    <tr style=\"text-align: right;\">\n",
              "      <th></th>\n",
              "      <th>Airline</th>\n",
              "      <th>Date_of_Journey</th>\n",
              "      <th>Source</th>\n",
              "      <th>Destination</th>\n",
              "      <th>Route</th>\n",
              "      <th>Dep_Time</th>\n",
              "      <th>Arrival_Time</th>\n",
              "      <th>Duration</th>\n",
              "      <th>Total_Stops</th>\n",
              "      <th>Additional_Info</th>\n",
              "    </tr>\n",
              "  </thead>\n",
              "  <tbody>\n",
              "    <tr>\n",
              "      <th>0</th>\n",
              "      <td>Jet Airways</td>\n",
              "      <td>6/06/2019</td>\n",
              "      <td>Delhi</td>\n",
              "      <td>Cochin</td>\n",
              "      <td>DEL → BOM → COK</td>\n",
              "      <td>17:30</td>\n",
              "      <td>04:25 07 Jun</td>\n",
              "      <td>10h 55m</td>\n",
              "      <td>1 stop</td>\n",
              "      <td>No info</td>\n",
              "    </tr>\n",
              "    <tr>\n",
              "      <th>1</th>\n",
              "      <td>IndiGo</td>\n",
              "      <td>12/05/2019</td>\n",
              "      <td>Kolkata</td>\n",
              "      <td>Banglore</td>\n",
              "      <td>CCU → MAA → BLR</td>\n",
              "      <td>06:20</td>\n",
              "      <td>10:20</td>\n",
              "      <td>4h</td>\n",
              "      <td>1 stop</td>\n",
              "      <td>No info</td>\n",
              "    </tr>\n",
              "    <tr>\n",
              "      <th>2</th>\n",
              "      <td>Jet Airways</td>\n",
              "      <td>21/05/2019</td>\n",
              "      <td>Delhi</td>\n",
              "      <td>Cochin</td>\n",
              "      <td>DEL → BOM → COK</td>\n",
              "      <td>19:15</td>\n",
              "      <td>19:00 22 May</td>\n",
              "      <td>23h 45m</td>\n",
              "      <td>1 stop</td>\n",
              "      <td>In-flight meal not included</td>\n",
              "    </tr>\n",
              "    <tr>\n",
              "      <th>3</th>\n",
              "      <td>Multiple carriers</td>\n",
              "      <td>21/05/2019</td>\n",
              "      <td>Delhi</td>\n",
              "      <td>Cochin</td>\n",
              "      <td>DEL → BOM → COK</td>\n",
              "      <td>08:00</td>\n",
              "      <td>21:00</td>\n",
              "      <td>13h</td>\n",
              "      <td>1 stop</td>\n",
              "      <td>No info</td>\n",
              "    </tr>\n",
              "    <tr>\n",
              "      <th>4</th>\n",
              "      <td>Air Asia</td>\n",
              "      <td>24/06/2019</td>\n",
              "      <td>Banglore</td>\n",
              "      <td>Delhi</td>\n",
              "      <td>BLR → DEL</td>\n",
              "      <td>23:55</td>\n",
              "      <td>02:45 25 Jun</td>\n",
              "      <td>2h 50m</td>\n",
              "      <td>non-stop</td>\n",
              "      <td>No info</td>\n",
              "    </tr>\n",
              "  </tbody>\n",
              "</table>\n",
              "</div>"
            ],
            "text/plain": [
              "             Airline Date_of_Journey    Source Destination            Route  \\\n",
              "0        Jet Airways       6/06/2019     Delhi      Cochin  DEL → BOM → COK   \n",
              "1             IndiGo      12/05/2019   Kolkata    Banglore  CCU → MAA → BLR   \n",
              "2        Jet Airways      21/05/2019     Delhi      Cochin  DEL → BOM → COK   \n",
              "3  Multiple carriers      21/05/2019     Delhi      Cochin  DEL → BOM → COK   \n",
              "4           Air Asia      24/06/2019  Banglore       Delhi        BLR → DEL   \n",
              "\n",
              "  Dep_Time  Arrival_Time Duration Total_Stops              Additional_Info  \n",
              "0    17:30  04:25 07 Jun  10h 55m      1 stop                      No info  \n",
              "1    06:20         10:20       4h      1 stop                      No info  \n",
              "2    19:15  19:00 22 May  23h 45m      1 stop  In-flight meal not included  \n",
              "3    08:00         21:00      13h      1 stop                      No info  \n",
              "4    23:55  02:45 25 Jun   2h 50m    non-stop                      No info  "
            ]
          },
          "metadata": {
            "tags": []
          },
          "execution_count": 69
        }
      ]
    },
    {
      "cell_type": "code",
      "metadata": {
        "colab": {
          "base_uri": "https://localhost:8080/"
        },
        "id": "jCFo0uWunO4Y",
        "outputId": "ae4a104a-ed71-4343-e9c8-1ccdad8c6dcf"
      },
      "source": [
        "# Preprocessing\n",
        "\n",
        "print(\"Test data Info\")\n",
        "print(\"-\"*75)\n",
        "print(test_data.info())\n",
        "\n",
        "print()\n",
        "print()\n",
        "\n",
        "print(\"Null values :\")\n",
        "print(\"-\"*75)\n",
        "test_data.dropna(inplace = True)\n",
        "print(test_data.isnull().sum())\n",
        "\n",
        "# EDA\n",
        "\n",
        "# Date_of_Journey\n",
        "test_data[\"Journey_day\"] = pd.to_datetime(test_data.Date_of_Journey, format=\"%d/%m/%Y\").dt.day\n",
        "test_data[\"Journey_month\"] = pd.to_datetime(test_data[\"Date_of_Journey\"], format = \"%d/%m/%Y\").dt.month\n",
        "test_data.drop([\"Date_of_Journey\"], axis = 1, inplace = True)\n",
        "\n",
        "# Dep_Time\n",
        "test_data[\"Dep_hour\"] = pd.to_datetime(test_data[\"Dep_Time\"]).dt.hour\n",
        "test_data[\"Dep_min\"] = pd.to_datetime(test_data[\"Dep_Time\"]).dt.minute\n",
        "test_data.drop([\"Dep_Time\"], axis = 1, inplace = True)\n",
        "\n",
        "# Arrival_Time\n",
        "test_data[\"Arrival_hour\"] = pd.to_datetime(test_data.Arrival_Time).dt.hour\n",
        "test_data[\"Arrival_min\"] = pd.to_datetime(test_data.Arrival_Time).dt.minute\n",
        "test_data.drop([\"Arrival_Time\"], axis = 1, inplace = True)\n",
        "\n",
        "# Duration\n",
        "duration = list(test_data[\"Duration\"])\n",
        "\n",
        "for i in range(len(duration)):\n",
        "    if len(duration[i].split()) != 2:    # Check if duration contains only hour or mins\n",
        "        if \"h\" in duration[i]:\n",
        "            duration[i] = duration[i].strip() + \" 0m\"   # Adds 0 minute\n",
        "        else:\n",
        "            duration[i] = \"0h \" + duration[i]           # Adds 0 hour\n",
        "\n",
        "duration_hours = []\n",
        "duration_mins = []\n",
        "for i in range(len(duration)):\n",
        "    duration_hours.append(int(duration[i].split(sep = \"h\")[0]))    # Extract hours from duration\n",
        "    duration_mins.append(int(duration[i].split(sep = \"m\")[0].split()[-1]))   # Extracts only minutes from duration\n",
        "\n",
        "# Adding Duration column to test set\n",
        "test_data[\"Duration_hours\"] = duration_hours\n",
        "test_data[\"Duration_mins\"] = duration_mins\n",
        "test_data.drop([\"Duration\"], axis = 1, inplace = True)\n",
        "\n",
        "\n",
        "# Categorical data\n",
        "\n",
        "print(\"Airline\")\n",
        "print(\"-\"*75)\n",
        "print(test_data[\"Airline\"].value_counts())\n",
        "Airline = pd.get_dummies(test_data[\"Airline\"], drop_first= True)\n",
        "\n",
        "print()\n",
        "\n",
        "print(\"Source\")\n",
        "print(\"-\"*75)\n",
        "print(test_data[\"Source\"].value_counts())\n",
        "Source = pd.get_dummies(test_data[\"Source\"], drop_first= True)\n",
        "\n",
        "print()\n",
        "\n",
        "print(\"Destination\")\n",
        "print(\"-\"*75)\n",
        "print(test_data[\"Destination\"].value_counts())\n",
        "Destination = pd.get_dummies(test_data[\"Destination\"], drop_first = True)\n",
        "\n",
        "# Additional_Info contains almost 80% no_info\n",
        "# Route and Total_Stops are related to each other\n",
        "test_data.drop([\"Route\", \"Additional_Info\"], axis = 1, inplace = True)\n",
        "\n",
        "# Replacing Total_Stops\n",
        "test_data.replace({\"non-stop\": 0, \"1 stop\": 1, \"2 stops\": 2, \"3 stops\": 3, \"4 stops\": 4}, inplace = True)\n",
        "\n",
        "# Concatenate dataframe --> test_data + Airline + Source + Destination\n",
        "data_test = pd.concat([test_data, Airline, Source, Destination], axis = 1)\n",
        "\n",
        "data_test.drop([\"Airline\", \"Source\", \"Destination\"], axis = 1, inplace = True)\n",
        "\n",
        "print()\n",
        "print()\n",
        "\n",
        "print(\"Shape of test data : \", data_test.shape)"
      ],
      "execution_count": 70,
      "outputs": [
        {
          "output_type": "stream",
          "text": [
            "Test data Info\n",
            "---------------------------------------------------------------------------\n",
            "<class 'pandas.core.frame.DataFrame'>\n",
            "RangeIndex: 2671 entries, 0 to 2670\n",
            "Data columns (total 10 columns):\n",
            " #   Column           Non-Null Count  Dtype \n",
            "---  ------           --------------  ----- \n",
            " 0   Airline          2671 non-null   object\n",
            " 1   Date_of_Journey  2671 non-null   object\n",
            " 2   Source           2671 non-null   object\n",
            " 3   Destination      2671 non-null   object\n",
            " 4   Route            2671 non-null   object\n",
            " 5   Dep_Time         2671 non-null   object\n",
            " 6   Arrival_Time     2671 non-null   object\n",
            " 7   Duration         2671 non-null   object\n",
            " 8   Total_Stops      2671 non-null   object\n",
            " 9   Additional_Info  2671 non-null   object\n",
            "dtypes: object(10)\n",
            "memory usage: 208.8+ KB\n",
            "None\n",
            "\n",
            "\n",
            "Null values :\n",
            "---------------------------------------------------------------------------\n",
            "Airline            0\n",
            "Date_of_Journey    0\n",
            "Source             0\n",
            "Destination        0\n",
            "Route              0\n",
            "Dep_Time           0\n",
            "Arrival_Time       0\n",
            "Duration           0\n",
            "Total_Stops        0\n",
            "Additional_Info    0\n",
            "dtype: int64\n",
            "Airline\n",
            "---------------------------------------------------------------------------\n",
            "Jet Airways                          897\n",
            "IndiGo                               511\n",
            "Air India                            440\n",
            "Multiple carriers                    347\n",
            "SpiceJet                             208\n",
            "Vistara                              129\n",
            "Air Asia                              86\n",
            "GoAir                                 46\n",
            "Multiple carriers Premium economy      3\n",
            "Vistara Premium economy                2\n",
            "Jet Airways Business                   2\n",
            "Name: Airline, dtype: int64\n",
            "\n",
            "Source\n",
            "---------------------------------------------------------------------------\n",
            "Delhi       1145\n",
            "Kolkata      710\n",
            "Banglore     555\n",
            "Mumbai       186\n",
            "Chennai       75\n",
            "Name: Source, dtype: int64\n",
            "\n",
            "Destination\n",
            "---------------------------------------------------------------------------\n",
            "Cochin       1145\n",
            "Banglore      710\n",
            "Delhi         317\n",
            "New Delhi     238\n",
            "Hyderabad     186\n",
            "Kolkata        75\n",
            "Name: Destination, dtype: int64\n",
            "\n",
            "\n",
            "Shape of test data :  (2671, 28)\n"
          ],
          "name": "stdout"
        }
      ]
    },
    {
      "cell_type": "code",
      "metadata": {
        "colab": {
          "base_uri": "https://localhost:8080/",
          "height": 278
        },
        "id": "fBXa37O9nO7E",
        "outputId": "589b9f02-dbe2-44d2-ec39-7093964323ff"
      },
      "source": [
        "data_test.head()"
      ],
      "execution_count": 71,
      "outputs": [
        {
          "output_type": "execute_result",
          "data": {
            "text/html": [
              "<div>\n",
              "<style scoped>\n",
              "    .dataframe tbody tr th:only-of-type {\n",
              "        vertical-align: middle;\n",
              "    }\n",
              "\n",
              "    .dataframe tbody tr th {\n",
              "        vertical-align: top;\n",
              "    }\n",
              "\n",
              "    .dataframe thead th {\n",
              "        text-align: right;\n",
              "    }\n",
              "</style>\n",
              "<table border=\"1\" class=\"dataframe\">\n",
              "  <thead>\n",
              "    <tr style=\"text-align: right;\">\n",
              "      <th></th>\n",
              "      <th>Total_Stops</th>\n",
              "      <th>Journey_day</th>\n",
              "      <th>Journey_month</th>\n",
              "      <th>Dep_hour</th>\n",
              "      <th>Dep_min</th>\n",
              "      <th>Arrival_hour</th>\n",
              "      <th>Arrival_min</th>\n",
              "      <th>Duration_hours</th>\n",
              "      <th>Duration_mins</th>\n",
              "      <th>Air India</th>\n",
              "      <th>GoAir</th>\n",
              "      <th>IndiGo</th>\n",
              "      <th>Jet Airways</th>\n",
              "      <th>Jet Airways Business</th>\n",
              "      <th>Multiple carriers</th>\n",
              "      <th>Multiple carriers Premium economy</th>\n",
              "      <th>SpiceJet</th>\n",
              "      <th>Vistara</th>\n",
              "      <th>Vistara Premium economy</th>\n",
              "      <th>Chennai</th>\n",
              "      <th>Delhi</th>\n",
              "      <th>Kolkata</th>\n",
              "      <th>Mumbai</th>\n",
              "      <th>Cochin</th>\n",
              "      <th>Delhi</th>\n",
              "      <th>Hyderabad</th>\n",
              "      <th>Kolkata</th>\n",
              "      <th>New Delhi</th>\n",
              "    </tr>\n",
              "  </thead>\n",
              "  <tbody>\n",
              "    <tr>\n",
              "      <th>0</th>\n",
              "      <td>1</td>\n",
              "      <td>6</td>\n",
              "      <td>6</td>\n",
              "      <td>17</td>\n",
              "      <td>30</td>\n",
              "      <td>4</td>\n",
              "      <td>25</td>\n",
              "      <td>10</td>\n",
              "      <td>55</td>\n",
              "      <td>0</td>\n",
              "      <td>0</td>\n",
              "      <td>0</td>\n",
              "      <td>1</td>\n",
              "      <td>0</td>\n",
              "      <td>0</td>\n",
              "      <td>0</td>\n",
              "      <td>0</td>\n",
              "      <td>0</td>\n",
              "      <td>0</td>\n",
              "      <td>0</td>\n",
              "      <td>1</td>\n",
              "      <td>0</td>\n",
              "      <td>0</td>\n",
              "      <td>1</td>\n",
              "      <td>0</td>\n",
              "      <td>0</td>\n",
              "      <td>0</td>\n",
              "      <td>0</td>\n",
              "    </tr>\n",
              "    <tr>\n",
              "      <th>1</th>\n",
              "      <td>1</td>\n",
              "      <td>12</td>\n",
              "      <td>5</td>\n",
              "      <td>6</td>\n",
              "      <td>20</td>\n",
              "      <td>10</td>\n",
              "      <td>20</td>\n",
              "      <td>4</td>\n",
              "      <td>0</td>\n",
              "      <td>0</td>\n",
              "      <td>0</td>\n",
              "      <td>1</td>\n",
              "      <td>0</td>\n",
              "      <td>0</td>\n",
              "      <td>0</td>\n",
              "      <td>0</td>\n",
              "      <td>0</td>\n",
              "      <td>0</td>\n",
              "      <td>0</td>\n",
              "      <td>0</td>\n",
              "      <td>0</td>\n",
              "      <td>1</td>\n",
              "      <td>0</td>\n",
              "      <td>0</td>\n",
              "      <td>0</td>\n",
              "      <td>0</td>\n",
              "      <td>0</td>\n",
              "      <td>0</td>\n",
              "    </tr>\n",
              "    <tr>\n",
              "      <th>2</th>\n",
              "      <td>1</td>\n",
              "      <td>21</td>\n",
              "      <td>5</td>\n",
              "      <td>19</td>\n",
              "      <td>15</td>\n",
              "      <td>19</td>\n",
              "      <td>0</td>\n",
              "      <td>23</td>\n",
              "      <td>45</td>\n",
              "      <td>0</td>\n",
              "      <td>0</td>\n",
              "      <td>0</td>\n",
              "      <td>1</td>\n",
              "      <td>0</td>\n",
              "      <td>0</td>\n",
              "      <td>0</td>\n",
              "      <td>0</td>\n",
              "      <td>0</td>\n",
              "      <td>0</td>\n",
              "      <td>0</td>\n",
              "      <td>1</td>\n",
              "      <td>0</td>\n",
              "      <td>0</td>\n",
              "      <td>1</td>\n",
              "      <td>0</td>\n",
              "      <td>0</td>\n",
              "      <td>0</td>\n",
              "      <td>0</td>\n",
              "    </tr>\n",
              "    <tr>\n",
              "      <th>3</th>\n",
              "      <td>1</td>\n",
              "      <td>21</td>\n",
              "      <td>5</td>\n",
              "      <td>8</td>\n",
              "      <td>0</td>\n",
              "      <td>21</td>\n",
              "      <td>0</td>\n",
              "      <td>13</td>\n",
              "      <td>0</td>\n",
              "      <td>0</td>\n",
              "      <td>0</td>\n",
              "      <td>0</td>\n",
              "      <td>0</td>\n",
              "      <td>0</td>\n",
              "      <td>1</td>\n",
              "      <td>0</td>\n",
              "      <td>0</td>\n",
              "      <td>0</td>\n",
              "      <td>0</td>\n",
              "      <td>0</td>\n",
              "      <td>1</td>\n",
              "      <td>0</td>\n",
              "      <td>0</td>\n",
              "      <td>1</td>\n",
              "      <td>0</td>\n",
              "      <td>0</td>\n",
              "      <td>0</td>\n",
              "      <td>0</td>\n",
              "    </tr>\n",
              "    <tr>\n",
              "      <th>4</th>\n",
              "      <td>0</td>\n",
              "      <td>24</td>\n",
              "      <td>6</td>\n",
              "      <td>23</td>\n",
              "      <td>55</td>\n",
              "      <td>2</td>\n",
              "      <td>45</td>\n",
              "      <td>2</td>\n",
              "      <td>50</td>\n",
              "      <td>0</td>\n",
              "      <td>0</td>\n",
              "      <td>0</td>\n",
              "      <td>0</td>\n",
              "      <td>0</td>\n",
              "      <td>0</td>\n",
              "      <td>0</td>\n",
              "      <td>0</td>\n",
              "      <td>0</td>\n",
              "      <td>0</td>\n",
              "      <td>0</td>\n",
              "      <td>0</td>\n",
              "      <td>0</td>\n",
              "      <td>0</td>\n",
              "      <td>0</td>\n",
              "      <td>1</td>\n",
              "      <td>0</td>\n",
              "      <td>0</td>\n",
              "      <td>0</td>\n",
              "    </tr>\n",
              "  </tbody>\n",
              "</table>\n",
              "</div>"
            ],
            "text/plain": [
              "   Total_Stops  Journey_day  Journey_month  Dep_hour  Dep_min  Arrival_hour  \\\n",
              "0            1            6              6        17       30             4   \n",
              "1            1           12              5         6       20            10   \n",
              "2            1           21              5        19       15            19   \n",
              "3            1           21              5         8        0            21   \n",
              "4            0           24              6        23       55             2   \n",
              "\n",
              "   Arrival_min  Duration_hours  Duration_mins  Air India  GoAir  IndiGo  \\\n",
              "0           25              10             55          0      0       0   \n",
              "1           20               4              0          0      0       1   \n",
              "2            0              23             45          0      0       0   \n",
              "3            0              13              0          0      0       0   \n",
              "4           45               2             50          0      0       0   \n",
              "\n",
              "   Jet Airways  Jet Airways Business  Multiple carriers  \\\n",
              "0            1                     0                  0   \n",
              "1            0                     0                  0   \n",
              "2            1                     0                  0   \n",
              "3            0                     0                  1   \n",
              "4            0                     0                  0   \n",
              "\n",
              "   Multiple carriers Premium economy  SpiceJet  Vistara  \\\n",
              "0                                  0         0        0   \n",
              "1                                  0         0        0   \n",
              "2                                  0         0        0   \n",
              "3                                  0         0        0   \n",
              "4                                  0         0        0   \n",
              "\n",
              "   Vistara Premium economy  Chennai  Delhi  Kolkata  Mumbai  Cochin  Delhi  \\\n",
              "0                        0        0      1        0       0       1      0   \n",
              "1                        0        0      0        1       0       0      0   \n",
              "2                        0        0      1        0       0       1      0   \n",
              "3                        0        0      1        0       0       1      0   \n",
              "4                        0        0      0        0       0       0      1   \n",
              "\n",
              "   Hyderabad  Kolkata  New Delhi  \n",
              "0          0        0          0  \n",
              "1          0        0          0  \n",
              "2          0        0          0  \n",
              "3          0        0          0  \n",
              "4          0        0          0  "
            ]
          },
          "metadata": {
            "tags": []
          },
          "execution_count": 71
        }
      ]
    },
    {
      "cell_type": "code",
      "metadata": {
        "colab": {
          "base_uri": "https://localhost:8080/"
        },
        "id": "la9dTOognO8y",
        "outputId": "b79428df-26b9-4637-97a9-71cb5380574e"
      },
      "source": [
        "data_train.shape"
      ],
      "execution_count": 72,
      "outputs": [
        {
          "output_type": "execute_result",
          "data": {
            "text/plain": [
              "(10682, 29)"
            ]
          },
          "metadata": {
            "tags": []
          },
          "execution_count": 72
        }
      ]
    },
    {
      "cell_type": "code",
      "metadata": {
        "colab": {
          "base_uri": "https://localhost:8080/"
        },
        "id": "b5d-_yYknO_r",
        "outputId": "1b78c5e8-8b11-4d87-f705-6d342f4540bc"
      },
      "source": [
        "data_train.columns"
      ],
      "execution_count": 73,
      "outputs": [
        {
          "output_type": "execute_result",
          "data": {
            "text/plain": [
              "Index(['Arrival_Time', 'Total_Stops', 'Price', 'Journey_day', 'Journey_month',\n",
              "       'Dep_hour', 'Dep_minute', 'Duration_hours', 'Duration_mins',\n",
              "       'Airline_Air India', 'Airline_GoAir', 'Airline_IndiGo',\n",
              "       'Airline_Jet Airways', 'Airline_Jet Airways Business',\n",
              "       'Airline_Multiple carriers',\n",
              "       'Airline_Multiple carriers Premium economy', 'Airline_SpiceJet',\n",
              "       'Airline_Trujet', 'Airline_Vistara', 'Airline_Vistara Premium economy',\n",
              "       'Source_Chennai', 'Source_Delhi', 'Source_Kolkata', 'Source_Mumbai',\n",
              "       'Destination_Cochin', 'Destination_Delhi', 'Destination_Hyderabad',\n",
              "       'Destination_Kolkata', 'Destination_New Delhi'],\n",
              "      dtype='object')"
            ]
          },
          "metadata": {
            "tags": []
          },
          "execution_count": 73
        }
      ]
    },
    {
      "cell_type": "code",
      "metadata": {
        "colab": {
          "base_uri": "https://localhost:8080/",
          "height": 261
        },
        "id": "yEgpBJYpost9",
        "outputId": "8f3f733a-8e20-4dff-fece-7a8bc93e440f"
      },
      "source": [
        "data_train.head()"
      ],
      "execution_count": 78,
      "outputs": [
        {
          "output_type": "execute_result",
          "data": {
            "text/html": [
              "<div>\n",
              "<style scoped>\n",
              "    .dataframe tbody tr th:only-of-type {\n",
              "        vertical-align: middle;\n",
              "    }\n",
              "\n",
              "    .dataframe tbody tr th {\n",
              "        vertical-align: top;\n",
              "    }\n",
              "\n",
              "    .dataframe thead th {\n",
              "        text-align: right;\n",
              "    }\n",
              "</style>\n",
              "<table border=\"1\" class=\"dataframe\">\n",
              "  <thead>\n",
              "    <tr style=\"text-align: right;\">\n",
              "      <th></th>\n",
              "      <th>Arrival_Time</th>\n",
              "      <th>Total_Stops</th>\n",
              "      <th>Price</th>\n",
              "      <th>Journey_day</th>\n",
              "      <th>Journey_month</th>\n",
              "      <th>Dep_hour</th>\n",
              "      <th>Dep_minute</th>\n",
              "      <th>Duration_hours</th>\n",
              "      <th>Duration_mins</th>\n",
              "      <th>Airline_Air India</th>\n",
              "      <th>Airline_GoAir</th>\n",
              "      <th>Airline_IndiGo</th>\n",
              "      <th>Airline_Jet Airways</th>\n",
              "      <th>Airline_Jet Airways Business</th>\n",
              "      <th>Airline_Multiple carriers</th>\n",
              "      <th>Airline_Multiple carriers Premium economy</th>\n",
              "      <th>Airline_SpiceJet</th>\n",
              "      <th>Airline_Trujet</th>\n",
              "      <th>Airline_Vistara</th>\n",
              "      <th>Airline_Vistara Premium economy</th>\n",
              "      <th>Source_Chennai</th>\n",
              "      <th>Source_Delhi</th>\n",
              "      <th>Source_Kolkata</th>\n",
              "      <th>Source_Mumbai</th>\n",
              "      <th>Destination_Cochin</th>\n",
              "      <th>Destination_Delhi</th>\n",
              "      <th>Destination_Hyderabad</th>\n",
              "      <th>Destination_Kolkata</th>\n",
              "      <th>Destination_New Delhi</th>\n",
              "    </tr>\n",
              "  </thead>\n",
              "  <tbody>\n",
              "    <tr>\n",
              "      <th>0</th>\n",
              "      <td>01:10 22 Mar</td>\n",
              "      <td>0</td>\n",
              "      <td>3897</td>\n",
              "      <td>24</td>\n",
              "      <td>3</td>\n",
              "      <td>22</td>\n",
              "      <td>20</td>\n",
              "      <td>2</td>\n",
              "      <td>50</td>\n",
              "      <td>0</td>\n",
              "      <td>0</td>\n",
              "      <td>1</td>\n",
              "      <td>0</td>\n",
              "      <td>0</td>\n",
              "      <td>0</td>\n",
              "      <td>0</td>\n",
              "      <td>0</td>\n",
              "      <td>0</td>\n",
              "      <td>0</td>\n",
              "      <td>0</td>\n",
              "      <td>0</td>\n",
              "      <td>0</td>\n",
              "      <td>0</td>\n",
              "      <td>0</td>\n",
              "      <td>0</td>\n",
              "      <td>0</td>\n",
              "      <td>0</td>\n",
              "      <td>0</td>\n",
              "      <td>1</td>\n",
              "    </tr>\n",
              "    <tr>\n",
              "      <th>1</th>\n",
              "      <td>13:15</td>\n",
              "      <td>2</td>\n",
              "      <td>7662</td>\n",
              "      <td>1</td>\n",
              "      <td>5</td>\n",
              "      <td>5</td>\n",
              "      <td>50</td>\n",
              "      <td>7</td>\n",
              "      <td>25</td>\n",
              "      <td>1</td>\n",
              "      <td>0</td>\n",
              "      <td>0</td>\n",
              "      <td>0</td>\n",
              "      <td>0</td>\n",
              "      <td>0</td>\n",
              "      <td>0</td>\n",
              "      <td>0</td>\n",
              "      <td>0</td>\n",
              "      <td>0</td>\n",
              "      <td>0</td>\n",
              "      <td>0</td>\n",
              "      <td>0</td>\n",
              "      <td>1</td>\n",
              "      <td>0</td>\n",
              "      <td>0</td>\n",
              "      <td>0</td>\n",
              "      <td>0</td>\n",
              "      <td>0</td>\n",
              "      <td>0</td>\n",
              "    </tr>\n",
              "    <tr>\n",
              "      <th>2</th>\n",
              "      <td>04:25 10 Jun</td>\n",
              "      <td>2</td>\n",
              "      <td>13882</td>\n",
              "      <td>9</td>\n",
              "      <td>6</td>\n",
              "      <td>9</td>\n",
              "      <td>25</td>\n",
              "      <td>19</td>\n",
              "      <td>0</td>\n",
              "      <td>0</td>\n",
              "      <td>0</td>\n",
              "      <td>0</td>\n",
              "      <td>1</td>\n",
              "      <td>0</td>\n",
              "      <td>0</td>\n",
              "      <td>0</td>\n",
              "      <td>0</td>\n",
              "      <td>0</td>\n",
              "      <td>0</td>\n",
              "      <td>0</td>\n",
              "      <td>0</td>\n",
              "      <td>1</td>\n",
              "      <td>0</td>\n",
              "      <td>0</td>\n",
              "      <td>1</td>\n",
              "      <td>0</td>\n",
              "      <td>0</td>\n",
              "      <td>0</td>\n",
              "      <td>0</td>\n",
              "    </tr>\n",
              "    <tr>\n",
              "      <th>3</th>\n",
              "      <td>23:30</td>\n",
              "      <td>1</td>\n",
              "      <td>6218</td>\n",
              "      <td>12</td>\n",
              "      <td>5</td>\n",
              "      <td>18</td>\n",
              "      <td>5</td>\n",
              "      <td>5</td>\n",
              "      <td>25</td>\n",
              "      <td>0</td>\n",
              "      <td>0</td>\n",
              "      <td>1</td>\n",
              "      <td>0</td>\n",
              "      <td>0</td>\n",
              "      <td>0</td>\n",
              "      <td>0</td>\n",
              "      <td>0</td>\n",
              "      <td>0</td>\n",
              "      <td>0</td>\n",
              "      <td>0</td>\n",
              "      <td>0</td>\n",
              "      <td>0</td>\n",
              "      <td>1</td>\n",
              "      <td>0</td>\n",
              "      <td>0</td>\n",
              "      <td>0</td>\n",
              "      <td>0</td>\n",
              "      <td>0</td>\n",
              "      <td>0</td>\n",
              "    </tr>\n",
              "    <tr>\n",
              "      <th>4</th>\n",
              "      <td>21:35</td>\n",
              "      <td>1</td>\n",
              "      <td>13302</td>\n",
              "      <td>1</td>\n",
              "      <td>3</td>\n",
              "      <td>16</td>\n",
              "      <td>50</td>\n",
              "      <td>4</td>\n",
              "      <td>45</td>\n",
              "      <td>0</td>\n",
              "      <td>0</td>\n",
              "      <td>1</td>\n",
              "      <td>0</td>\n",
              "      <td>0</td>\n",
              "      <td>0</td>\n",
              "      <td>0</td>\n",
              "      <td>0</td>\n",
              "      <td>0</td>\n",
              "      <td>0</td>\n",
              "      <td>0</td>\n",
              "      <td>0</td>\n",
              "      <td>0</td>\n",
              "      <td>0</td>\n",
              "      <td>0</td>\n",
              "      <td>0</td>\n",
              "      <td>0</td>\n",
              "      <td>0</td>\n",
              "      <td>0</td>\n",
              "      <td>1</td>\n",
              "    </tr>\n",
              "  </tbody>\n",
              "</table>\n",
              "</div>"
            ],
            "text/plain": [
              "   Arrival_Time  Total_Stops  Price  Journey_day  Journey_month  Dep_hour  \\\n",
              "0  01:10 22 Mar            0   3897           24              3        22   \n",
              "1         13:15            2   7662            1              5         5   \n",
              "2  04:25 10 Jun            2  13882            9              6         9   \n",
              "3         23:30            1   6218           12              5        18   \n",
              "4         21:35            1  13302            1              3        16   \n",
              "\n",
              "   Dep_minute  Duration_hours  Duration_mins  Airline_Air India  \\\n",
              "0          20               2             50                  0   \n",
              "1          50               7             25                  1   \n",
              "2          25              19              0                  0   \n",
              "3           5               5             25                  0   \n",
              "4          50               4             45                  0   \n",
              "\n",
              "   Airline_GoAir  Airline_IndiGo  Airline_Jet Airways  \\\n",
              "0              0               1                    0   \n",
              "1              0               0                    0   \n",
              "2              0               0                    1   \n",
              "3              0               1                    0   \n",
              "4              0               1                    0   \n",
              "\n",
              "   Airline_Jet Airways Business  Airline_Multiple carriers  \\\n",
              "0                             0                          0   \n",
              "1                             0                          0   \n",
              "2                             0                          0   \n",
              "3                             0                          0   \n",
              "4                             0                          0   \n",
              "\n",
              "   Airline_Multiple carriers Premium economy  Airline_SpiceJet  \\\n",
              "0                                          0                 0   \n",
              "1                                          0                 0   \n",
              "2                                          0                 0   \n",
              "3                                          0                 0   \n",
              "4                                          0                 0   \n",
              "\n",
              "   Airline_Trujet  Airline_Vistara  Airline_Vistara Premium economy  \\\n",
              "0               0                0                                0   \n",
              "1               0                0                                0   \n",
              "2               0                0                                0   \n",
              "3               0                0                                0   \n",
              "4               0                0                                0   \n",
              "\n",
              "   Source_Chennai  Source_Delhi  Source_Kolkata  Source_Mumbai  \\\n",
              "0               0             0               0              0   \n",
              "1               0             0               1              0   \n",
              "2               0             1               0              0   \n",
              "3               0             0               1              0   \n",
              "4               0             0               0              0   \n",
              "\n",
              "   Destination_Cochin  Destination_Delhi  Destination_Hyderabad  \\\n",
              "0                   0                  0                      0   \n",
              "1                   0                  0                      0   \n",
              "2                   1                  0                      0   \n",
              "3                   0                  0                      0   \n",
              "4                   0                  0                      0   \n",
              "\n",
              "   Destination_Kolkata  Destination_New Delhi  \n",
              "0                    0                      1  \n",
              "1                    0                      0  \n",
              "2                    0                      0  \n",
              "3                    0                      0  \n",
              "4                    0                      1  "
            ]
          },
          "metadata": {
            "tags": []
          },
          "execution_count": 78
        }
      ]
    },
    {
      "cell_type": "code",
      "metadata": {
        "colab": {
          "base_uri": "https://localhost:8080/",
          "height": 261
        },
        "id": "c1Ehro-unPBc",
        "outputId": "980c6b88-87f6-41aa-b225-d4d619b3f655"
      },
      "source": [
        "X = data_train.loc[:, ['Total_Stops', 'Journey_day', 'Journey_month', 'Dep_hour',\n",
        "       'Dep_minute', 'Duration_hours', 'Duration_mins', 'Duration_hours',\n",
        "       'Duration_mins', 'Airline_Air India', 'Airline_GoAir', 'Airline_IndiGo',\n",
        "       'Airline_Jet Airways', 'Airline_Jet Airways Business',\n",
        "       'Airline_Multiple carriers',\n",
        "       'Airline_Multiple carriers Premium economy', 'Airline_SpiceJet',\n",
        "       'Airline_Trujet', 'Airline_Vistara', 'Airline_Vistara Premium economy',\n",
        "       'Source_Chennai', 'Source_Delhi', 'Source_Kolkata', 'Source_Mumbai',\n",
        "       'Destination_Cochin', 'Destination_Delhi', 'Destination_Hyderabad',\n",
        "       'Destination_Kolkata', 'Destination_New Delhi']]\n",
        "\n",
        "X.head()"
      ],
      "execution_count": 90,
      "outputs": [
        {
          "output_type": "execute_result",
          "data": {
            "text/html": [
              "<div>\n",
              "<style scoped>\n",
              "    .dataframe tbody tr th:only-of-type {\n",
              "        vertical-align: middle;\n",
              "    }\n",
              "\n",
              "    .dataframe tbody tr th {\n",
              "        vertical-align: top;\n",
              "    }\n",
              "\n",
              "    .dataframe thead th {\n",
              "        text-align: right;\n",
              "    }\n",
              "</style>\n",
              "<table border=\"1\" class=\"dataframe\">\n",
              "  <thead>\n",
              "    <tr style=\"text-align: right;\">\n",
              "      <th></th>\n",
              "      <th>Total_Stops</th>\n",
              "      <th>Journey_day</th>\n",
              "      <th>Journey_month</th>\n",
              "      <th>Dep_hour</th>\n",
              "      <th>Dep_minute</th>\n",
              "      <th>Duration_hours</th>\n",
              "      <th>Duration_mins</th>\n",
              "      <th>Duration_hours</th>\n",
              "      <th>Duration_mins</th>\n",
              "      <th>Airline_Air India</th>\n",
              "      <th>Airline_GoAir</th>\n",
              "      <th>Airline_IndiGo</th>\n",
              "      <th>Airline_Jet Airways</th>\n",
              "      <th>Airline_Jet Airways Business</th>\n",
              "      <th>Airline_Multiple carriers</th>\n",
              "      <th>Airline_Multiple carriers Premium economy</th>\n",
              "      <th>Airline_SpiceJet</th>\n",
              "      <th>Airline_Trujet</th>\n",
              "      <th>Airline_Vistara</th>\n",
              "      <th>Airline_Vistara Premium economy</th>\n",
              "      <th>Source_Chennai</th>\n",
              "      <th>Source_Delhi</th>\n",
              "      <th>Source_Kolkata</th>\n",
              "      <th>Source_Mumbai</th>\n",
              "      <th>Destination_Cochin</th>\n",
              "      <th>Destination_Delhi</th>\n",
              "      <th>Destination_Hyderabad</th>\n",
              "      <th>Destination_Kolkata</th>\n",
              "      <th>Destination_New Delhi</th>\n",
              "    </tr>\n",
              "  </thead>\n",
              "  <tbody>\n",
              "    <tr>\n",
              "      <th>0</th>\n",
              "      <td>0</td>\n",
              "      <td>24</td>\n",
              "      <td>3</td>\n",
              "      <td>22</td>\n",
              "      <td>20</td>\n",
              "      <td>2</td>\n",
              "      <td>50</td>\n",
              "      <td>2</td>\n",
              "      <td>50</td>\n",
              "      <td>0</td>\n",
              "      <td>0</td>\n",
              "      <td>1</td>\n",
              "      <td>0</td>\n",
              "      <td>0</td>\n",
              "      <td>0</td>\n",
              "      <td>0</td>\n",
              "      <td>0</td>\n",
              "      <td>0</td>\n",
              "      <td>0</td>\n",
              "      <td>0</td>\n",
              "      <td>0</td>\n",
              "      <td>0</td>\n",
              "      <td>0</td>\n",
              "      <td>0</td>\n",
              "      <td>0</td>\n",
              "      <td>0</td>\n",
              "      <td>0</td>\n",
              "      <td>0</td>\n",
              "      <td>1</td>\n",
              "    </tr>\n",
              "    <tr>\n",
              "      <th>1</th>\n",
              "      <td>2</td>\n",
              "      <td>1</td>\n",
              "      <td>5</td>\n",
              "      <td>5</td>\n",
              "      <td>50</td>\n",
              "      <td>7</td>\n",
              "      <td>25</td>\n",
              "      <td>7</td>\n",
              "      <td>25</td>\n",
              "      <td>1</td>\n",
              "      <td>0</td>\n",
              "      <td>0</td>\n",
              "      <td>0</td>\n",
              "      <td>0</td>\n",
              "      <td>0</td>\n",
              "      <td>0</td>\n",
              "      <td>0</td>\n",
              "      <td>0</td>\n",
              "      <td>0</td>\n",
              "      <td>0</td>\n",
              "      <td>0</td>\n",
              "      <td>0</td>\n",
              "      <td>1</td>\n",
              "      <td>0</td>\n",
              "      <td>0</td>\n",
              "      <td>0</td>\n",
              "      <td>0</td>\n",
              "      <td>0</td>\n",
              "      <td>0</td>\n",
              "    </tr>\n",
              "    <tr>\n",
              "      <th>2</th>\n",
              "      <td>2</td>\n",
              "      <td>9</td>\n",
              "      <td>6</td>\n",
              "      <td>9</td>\n",
              "      <td>25</td>\n",
              "      <td>19</td>\n",
              "      <td>0</td>\n",
              "      <td>19</td>\n",
              "      <td>0</td>\n",
              "      <td>0</td>\n",
              "      <td>0</td>\n",
              "      <td>0</td>\n",
              "      <td>1</td>\n",
              "      <td>0</td>\n",
              "      <td>0</td>\n",
              "      <td>0</td>\n",
              "      <td>0</td>\n",
              "      <td>0</td>\n",
              "      <td>0</td>\n",
              "      <td>0</td>\n",
              "      <td>0</td>\n",
              "      <td>1</td>\n",
              "      <td>0</td>\n",
              "      <td>0</td>\n",
              "      <td>1</td>\n",
              "      <td>0</td>\n",
              "      <td>0</td>\n",
              "      <td>0</td>\n",
              "      <td>0</td>\n",
              "    </tr>\n",
              "    <tr>\n",
              "      <th>3</th>\n",
              "      <td>1</td>\n",
              "      <td>12</td>\n",
              "      <td>5</td>\n",
              "      <td>18</td>\n",
              "      <td>5</td>\n",
              "      <td>5</td>\n",
              "      <td>25</td>\n",
              "      <td>5</td>\n",
              "      <td>25</td>\n",
              "      <td>0</td>\n",
              "      <td>0</td>\n",
              "      <td>1</td>\n",
              "      <td>0</td>\n",
              "      <td>0</td>\n",
              "      <td>0</td>\n",
              "      <td>0</td>\n",
              "      <td>0</td>\n",
              "      <td>0</td>\n",
              "      <td>0</td>\n",
              "      <td>0</td>\n",
              "      <td>0</td>\n",
              "      <td>0</td>\n",
              "      <td>1</td>\n",
              "      <td>0</td>\n",
              "      <td>0</td>\n",
              "      <td>0</td>\n",
              "      <td>0</td>\n",
              "      <td>0</td>\n",
              "      <td>0</td>\n",
              "    </tr>\n",
              "    <tr>\n",
              "      <th>4</th>\n",
              "      <td>1</td>\n",
              "      <td>1</td>\n",
              "      <td>3</td>\n",
              "      <td>16</td>\n",
              "      <td>50</td>\n",
              "      <td>4</td>\n",
              "      <td>45</td>\n",
              "      <td>4</td>\n",
              "      <td>45</td>\n",
              "      <td>0</td>\n",
              "      <td>0</td>\n",
              "      <td>1</td>\n",
              "      <td>0</td>\n",
              "      <td>0</td>\n",
              "      <td>0</td>\n",
              "      <td>0</td>\n",
              "      <td>0</td>\n",
              "      <td>0</td>\n",
              "      <td>0</td>\n",
              "      <td>0</td>\n",
              "      <td>0</td>\n",
              "      <td>0</td>\n",
              "      <td>0</td>\n",
              "      <td>0</td>\n",
              "      <td>0</td>\n",
              "      <td>0</td>\n",
              "      <td>0</td>\n",
              "      <td>0</td>\n",
              "      <td>1</td>\n",
              "    </tr>\n",
              "  </tbody>\n",
              "</table>\n",
              "</div>"
            ],
            "text/plain": [
              "   Total_Stops  Journey_day  Journey_month  Dep_hour  Dep_minute  \\\n",
              "0            0           24              3        22          20   \n",
              "1            2            1              5         5          50   \n",
              "2            2            9              6         9          25   \n",
              "3            1           12              5        18           5   \n",
              "4            1            1              3        16          50   \n",
              "\n",
              "   Duration_hours  Duration_mins  Duration_hours  Duration_mins  \\\n",
              "0               2             50               2             50   \n",
              "1               7             25               7             25   \n",
              "2              19              0              19              0   \n",
              "3               5             25               5             25   \n",
              "4               4             45               4             45   \n",
              "\n",
              "   Airline_Air India  Airline_GoAir  Airline_IndiGo  Airline_Jet Airways  \\\n",
              "0                  0              0               1                    0   \n",
              "1                  1              0               0                    0   \n",
              "2                  0              0               0                    1   \n",
              "3                  0              0               1                    0   \n",
              "4                  0              0               1                    0   \n",
              "\n",
              "   Airline_Jet Airways Business  Airline_Multiple carriers  \\\n",
              "0                             0                          0   \n",
              "1                             0                          0   \n",
              "2                             0                          0   \n",
              "3                             0                          0   \n",
              "4                             0                          0   \n",
              "\n",
              "   Airline_Multiple carriers Premium economy  Airline_SpiceJet  \\\n",
              "0                                          0                 0   \n",
              "1                                          0                 0   \n",
              "2                                          0                 0   \n",
              "3                                          0                 0   \n",
              "4                                          0                 0   \n",
              "\n",
              "   Airline_Trujet  Airline_Vistara  Airline_Vistara Premium economy  \\\n",
              "0               0                0                                0   \n",
              "1               0                0                                0   \n",
              "2               0                0                                0   \n",
              "3               0                0                                0   \n",
              "4               0                0                                0   \n",
              "\n",
              "   Source_Chennai  Source_Delhi  Source_Kolkata  Source_Mumbai  \\\n",
              "0               0             0               0              0   \n",
              "1               0             0               1              0   \n",
              "2               0             1               0              0   \n",
              "3               0             0               1              0   \n",
              "4               0             0               0              0   \n",
              "\n",
              "   Destination_Cochin  Destination_Delhi  Destination_Hyderabad  \\\n",
              "0                   0                  0                      0   \n",
              "1                   0                  0                      0   \n",
              "2                   1                  0                      0   \n",
              "3                   0                  0                      0   \n",
              "4                   0                  0                      0   \n",
              "\n",
              "   Destination_Kolkata  Destination_New Delhi  \n",
              "0                    0                      1  \n",
              "1                    0                      0  \n",
              "2                    0                      0  \n",
              "3                    0                      0  \n",
              "4                    0                      1  "
            ]
          },
          "metadata": {
            "tags": []
          },
          "execution_count": 90
        }
      ]
    },
    {
      "cell_type": "code",
      "metadata": {
        "colab": {
          "base_uri": "https://localhost:8080/"
        },
        "id": "m8PU077YnPC8",
        "outputId": "61a8de38-0226-4970-c445-edb4844d383e"
      },
      "source": [
        "y = data_train.iloc[:, 1]\n",
        "y.head()"
      ],
      "execution_count": 91,
      "outputs": [
        {
          "output_type": "execute_result",
          "data": {
            "text/plain": [
              "0    0\n",
              "1    2\n",
              "2    2\n",
              "3    1\n",
              "4    1\n",
              "Name: Total_Stops, dtype: int64"
            ]
          },
          "metadata": {
            "tags": []
          },
          "execution_count": 91
        }
      ]
    },
    {
      "cell_type": "code",
      "metadata": {
        "colab": {
          "base_uri": "https://localhost:8080/",
          "height": 925
        },
        "id": "KSNc5oUt08ns",
        "outputId": "28486be8-9645-4fec-9ed0-f2acc332c1f6"
      },
      "source": [
        "# Finds correlation between Independent and dependent attributes\n",
        "\n",
        "plt.figure(figsize = (18,18))\n",
        "sns.heatmap(train_data.corr(), annot = True, cmap = \"RdYlGn\")\n",
        "\n",
        "plt.show()"
      ],
      "execution_count": 92,
      "outputs": [
        {
          "output_type": "display_data",
          "data": {
            "image/png": "[encoded data removed]",
            "text/plain": [
              "<Figure size 1296x1296 with 2 Axes>"
            ]
          },
          "metadata": {
            "tags": [],
            "needs_background": "light"
          }
        }
      ]
    },
    {
      "cell_type": "code",
      "metadata": {
        "colab": {
          "base_uri": "https://localhost:8080/"
        },
        "id": "pKjYQmGz2DFS",
        "outputId": "c1c9ed78-3664-4433-de20-b19f56b52633"
      },
      "source": [
        "# Important feature using ExtraTreesRegressor\n",
        "\n",
        "from sklearn.ensemble import ExtraTreesRegressor\n",
        "selection = ExtraTreesRegressor()\n",
        "selection.fit(X, y)"
      ],
      "execution_count": 93,
      "outputs": [
        {
          "output_type": "execute_result",
          "data": {
            "text/plain": [
              "ExtraTreesRegressor(bootstrap=False, ccp_alpha=0.0, criterion='mse',\n",
              "                    max_depth=None, max_features='auto', max_leaf_nodes=None,\n",
              "                    max_samples=None, min_impurity_decrease=0.0,\n",
              "                    min_impurity_split=None, min_samples_leaf=1,\n",
              "                    min_samples_split=2, min_weight_fraction_leaf=0.0,\n",
              "                    n_estimators=100, n_jobs=None, oob_score=False,\n",
              "                    random_state=None, verbose=0, warm_start=False)"
            ]
          },
          "metadata": {
            "tags": []
          },
          "execution_count": 93
        }
      ]
    },
    {
      "cell_type": "code",
      "metadata": {
        "colab": {
          "base_uri": "https://localhost:8080/"
        },
        "id": "IKV8TNft2DNT",
        "outputId": "2c943deb-7559-477a-bfad-55d643266c40"
      },
      "source": [
        "print(selection.feature_importances_)"
      ],
      "execution_count": 94,
      "outputs": [
        {
          "output_type": "stream",
          "text": [
            "[6.29488769e-01 0.00000000e+00 0.00000000e+00 5.07135148e-05\n",
            " 1.48965032e-04 1.14416721e-01 6.82137794e-05 1.68403884e-01\n",
            " 1.51271560e-05 2.16332074e-02 0.00000000e+00 0.00000000e+00\n",
            " 2.23277669e-03 0.00000000e+00 0.00000000e+00 0.00000000e+00\n",
            " 0.00000000e+00 0.00000000e+00 1.01841997e-04 0.00000000e+00\n",
            " 0.00000000e+00 1.86992839e-02 3.88101747e-03 1.80320166e-05\n",
            " 3.72457707e-02 3.59160667e-03 4.06992090e-06 0.00000000e+00\n",
            " 0.00000000e+00]\n"
          ],
          "name": "stdout"
        }
      ]
    },
    {
      "cell_type": "code",
      "metadata": {
        "colab": {
          "base_uri": "https://localhost:8080/",
          "height": 483
        },
        "id": "t0R52RjK2DQG",
        "outputId": "9aefd980-6b0b-4069-e222-a1ccb6c01e74"
      },
      "source": [
        "#plot graph of feature importances for better visualization\n",
        "\n",
        "plt.figure(figsize = (12,8))\n",
        "feat_importances = pd.Series(selection.feature_importances_, index=X.columns)\n",
        "feat_importances.nlargest(20).plot(kind='barh')\n",
        "plt.show()"
      ],
      "execution_count": 95,
      "outputs": [
        {
          "output_type": "display_data",
          "data": {
            "image/png": "[encoded data removed]",
            "text/plain": [
              "<Figure size 864x576 with 1 Axes>"
            ]
          },
          "metadata": {
            "tags": [],
            "needs_background": "light"
          }
        }
      ]
    },
    {
      "cell_type": "markdown",
      "metadata": {
        "id": "JSLIG1GH2Xb3"
      },
      "source": [
        "\n",
        "**Fitting model using Random Forest**\n",
        "\n",
        "1.Split dataset into train and test set in order to prediction w.r.t X_test\n",
        "\n",
        "2.If needed do scaling of data\n",
        "\n",
        "Scaling is not done in Random forest\n",
        "\n",
        "3.Import model\n",
        "\n",
        "4.Fit the data\n",
        "\n",
        "5.Predict w.r.t X_test\n",
        "\n",
        "6.In regression check RSME Score\n",
        "\n",
        "7.Plot graph\n",
        "\n"
      ]
    },
    {
      "cell_type": "code",
      "metadata": {
        "id": "KGFearmF2Dh3"
      },
      "source": [
        "from sklearn.model_selection import train_test_split\n",
        "X_train, X_test, y_train, y_test = train_test_split(X, y, test_size = 0.2, random_state = 42)"
      ],
      "execution_count": 96,
      "outputs": []
    },
    {
      "cell_type": "code",
      "metadata": {
        "colab": {
          "base_uri": "https://localhost:8080/"
        },
        "id": "rE3w6EZp2Dkb",
        "outputId": "6ce57161-e195-41d5-dace-2c0c47acba87"
      },
      "source": [
        "from sklearn.ensemble import RandomForestRegressor\n",
        "reg_rf = RandomForestRegressor()\n",
        "reg_rf.fit(X_train, y_train)"
      ],
      "execution_count": 97,
      "outputs": [
        {
          "output_type": "execute_result",
          "data": {
            "text/plain": [
              "RandomForestRegressor(bootstrap=True, ccp_alpha=0.0, criterion='mse',\n",
              "                      max_depth=None, max_features='auto', max_leaf_nodes=None,\n",
              "                      max_samples=None, min_impurity_decrease=0.0,\n",
              "                      min_impurity_split=None, min_samples_leaf=1,\n",
              "                      min_samples_split=2, min_weight_fraction_leaf=0.0,\n",
              "                      n_estimators=100, n_jobs=None, oob_score=False,\n",
              "                      random_state=None, verbose=0, warm_start=False)"
            ]
          },
          "metadata": {
            "tags": []
          },
          "execution_count": 97
        }
      ]
    },
    {
      "cell_type": "code",
      "metadata": {
        "id": "naxiQY1w26Mv"
      },
      "source": [
        "y_pred = reg_rf.predict(X_test)"
      ],
      "execution_count": 107,
      "outputs": []
    },
    {
      "cell_type": "code",
      "metadata": {
        "colab": {
          "base_uri": "https://localhost:8080/"
        },
        "id": "Ctl01TNk26DR",
        "outputId": "a006cd63-1a69-49d4-e0c8-3dddb81e3a12"
      },
      "source": [
        "reg_rf.score(X_train, y_train)"
      ],
      "execution_count": 108,
      "outputs": [
        {
          "output_type": "execute_result",
          "data": {
            "text/plain": [
              "0.9999479994187974"
            ]
          },
          "metadata": {
            "tags": []
          },
          "execution_count": 108
        }
      ]
    },
    {
      "cell_type": "code",
      "metadata": {
        "colab": {
          "base_uri": "https://localhost:8080/"
        },
        "id": "wK8RUGaL3HK6",
        "outputId": "0f46094b-52ba-42c8-a4f9-deaf51bb1f04"
      },
      "source": [
        "reg_rf.score(X_test, y_test)"
      ],
      "execution_count": 109,
      "outputs": [
        {
          "output_type": "execute_result",
          "data": {
            "text/plain": [
              "1.0"
            ]
          },
          "metadata": {
            "tags": []
          },
          "execution_count": 109
        }
      ]
    },
    {
      "cell_type": "code",
      "metadata": {
        "colab": {
          "base_uri": "https://localhost:8080/",
          "height": 369
        },
        "id": "Z0SRXaqs3HVo",
        "outputId": "3f75e957-7ca6-4fb0-e42e-3ba49b2edd16"
      },
      "source": [
        "sns.distplot(y_test-y_pred)\n",
        "plt.show()"
      ],
      "execution_count": 110,
      "outputs": [
        {
          "output_type": "stream",
          "text": [
            "/usr/local/lib/python3.7/dist-packages/seaborn/distributions.py:2557: FutureWarning: `distplot` is a deprecated function and will be removed in a future version. Please adapt your code to use either `displot` (a figure-level function with similar flexibility) or `histplot` (an axes-level function for histograms).\n",
            "  warnings.warn(msg, FutureWarning)\n",
            "/usr/local/lib/python3.7/dist-packages/seaborn/distributions.py:306: UserWarning: Dataset has 0 variance; skipping density estimate.\n",
            "  warnings.warn(msg, UserWarning)\n"
          ],
          "name": "stderr"
        },
        {
          "output_type": "display_data",
          "data": {
            "image/png": "[encoded data removed]",
            "text/plain": [
              "<Figure size 432x288 with 1 Axes>"
            ]
          },
          "metadata": {
            "tags": [],
            "needs_background": "light"
          }
        }
      ]
    },
    {
      "cell_type": "code",
      "metadata": {
        "colab": {
          "base_uri": "https://localhost:8080/",
          "height": 280
        },
        "id": "d2_lPWGB3Pxz",
        "outputId": "4c9748a1-815f-47d6-daa2-8f19ce31ef45"
      },
      "source": [
        "plt.scatter(y_test, y_pred, alpha = 0.5)\n",
        "plt.xlabel(\"y_test\")\n",
        "plt.ylabel(\"y_pred\")\n",
        "plt.show()"
      ],
      "execution_count": 111,
      "outputs": [
        {
          "output_type": "display_data",
          "data": {
            "image/png": "[encoded data removed]",
            "text/plain": [
              "<Figure size 432x288 with 1 Axes>"
            ]
          },
          "metadata": {
            "tags": [],
            "needs_background": "light"
          }
        }
      ]
    },
    {
      "cell_type": "code",
      "metadata": {
        "id": "NyGmLMNo3Z_A"
      },
      "source": [
        "from sklearn import metrics"
      ],
      "execution_count": 103,
      "outputs": []
    },
    {
      "cell_type": "code",
      "metadata": {
        "colab": {
          "base_uri": "https://localhost:8080/"
        },
        "id": "Bft74BhZ3a85",
        "outputId": "c6ca2839-e664-4760-fa28-2b7fabff4547"
      },
      "source": [
        "print('MAE:', metrics.mean_absolute_error(y_test, y_pred))\n",
        "print('MSE:', metrics.mean_squared_error(y_test, y_pred))\n",
        "print('RMSE:', np.sqrt(metrics.mean_squared_error(y_test, y_pred)))"
      ],
      "execution_count": 105,
      "outputs": [
        {
          "output_type": "stream",
          "text": [
            "MAE: 0.0\n",
            "MSE: 0.0\n",
            "RMSE: 0.0\n"
          ],
          "name": "stdout"
        }
      ]
    },
    {
      "cell_type": "code",
      "metadata": {
        "colab": {
          "base_uri": "https://localhost:8080/"
        },
        "id": "0sY-Sjaw3jZT",
        "outputId": "ac93f8e3-c4ec-4c7c-c1e7-b41681d8733d"
      },
      "source": [
        "# RMSE/(max(DV)-min(DV))\n",
        "\n",
        "2090.5509/(max(y)-min(y))"
      ],
      "execution_count": 112,
      "outputs": [
        {
          "output_type": "execute_result",
          "data": {
            "text/plain": [
              "522.637725"
            ]
          },
          "metadata": {
            "tags": []
          },
          "execution_count": 112
        }
      ]
    },
    {
      "cell_type": "code",
      "metadata": {
        "colab": {
          "base_uri": "https://localhost:8080/"
        },
        "id": "otPG26185vRX",
        "outputId": "9e282b80-8204-4151-9020-755ac2a23a32"
      },
      "source": [
        "metrics.r2_score(y_test, y_pred)"
      ],
      "execution_count": 113,
      "outputs": [
        {
          "output_type": "execute_result",
          "data": {
            "text/plain": [
              "1.0"
            ]
          },
          "metadata": {
            "tags": []
          },
          "execution_count": 113
        }
      ]
    },
    {
      "cell_type": "code",
      "metadata": {
        "id": "WCwO5_gA5vbn"
      },
      "source": [
        "from sklearn.model_selection import RandomizedSearchCV"
      ],
      "execution_count": 114,
      "outputs": []
    },
    {
      "cell_type": "code",
      "metadata": {
        "id": "mcv4TNCS5viH"
      },
      "source": [
        "#Randomized Search CV\n",
        "\n",
        "# Number of trees in random forest\n",
        "n_estimators = [int(x) for x in np.linspace(start = 100, stop = 1200, num = 12)]\n",
        "# Number of features to consider at every split\n",
        "max_features = ['auto', 'sqrt']\n",
        "# Maximum number of levels in tree\n",
        "max_depth = [int(x) for x in np.linspace(5, 30, num = 6)]\n",
        "# Minimum number of samples required to split a node\n",
        "min_samples_split = [2, 5, 10, 15, 100]\n",
        "# Minimum number of samples required at each leaf node\n",
        "min_samples_leaf = [1, 2, 5, 10]"
      ],
      "execution_count": 115,
      "outputs": []
    },
    {
      "cell_type": "code",
      "metadata": {
        "id": "CtLh8ml36-GL"
      },
      "source": [
        "# Create the random grid\n",
        "\n",
        "random_grid = {'n_estimators': n_estimators,\n",
        "               'max_features': max_features,\n",
        "               'max_depth': max_depth,\n",
        "               'min_samples_split': min_samples_split,\n",
        "               'min_samples_leaf': min_samples_leaf}"
      ],
      "execution_count": 116,
      "outputs": []
    },
    {
      "cell_type": "code",
      "metadata": {
        "id": "eozB7Sxn6-MM"
      },
      "source": [
        "# Random search of parameters, using 5 fold cross validation, \n",
        "# search across 100 different combinations\n",
        "rf_random = RandomizedSearchCV(estimator = reg_rf, param_distributions = random_grid,scoring='neg_mean_squared_error', n_iter = 10, cv = 5, verbose=2, random_state=42, n_jobs = 1)"
      ],
      "execution_count": 117,
      "outputs": []
    },
    {
      "cell_type": "code",
      "metadata": {
        "colab": {
          "base_uri": "https://localhost:8080/"
        },
        "id": "MKnUZ-Q07GWm",
        "outputId": "6f6118f5-77b4-4162-be7f-6a1d1d37da29"
      },
      "source": [
        "rf_random.fit(X_train,y_train)"
      ],
      "execution_count": 118,
      "outputs": [
        {
          "output_type": "stream",
          "text": [
            "Fitting 5 folds for each of 10 candidates, totalling 50 fits\n",
            "[CV] n_estimators=900, min_samples_split=5, min_samples_leaf=5, max_features=sqrt, max_depth=10 \n"
          ],
          "name": "stdout"
        },
        {
          "output_type": "stream",
          "text": [
            "[Parallel(n_jobs=1)]: Using backend SequentialBackend with 1 concurrent workers.\n"
          ],
          "name": "stderr"
        },
        {
          "output_type": "stream",
          "text": [
            "[CV]  n_estimators=900, min_samples_split=5, min_samples_leaf=5, max_features=sqrt, max_depth=10, total=   3.2s\n",
            "[CV] n_estimators=900, min_samples_split=5, min_samples_leaf=5, max_features=sqrt, max_depth=10 \n"
          ],
          "name": "stdout"
        },
        {
          "output_type": "stream",
          "text": [
            "[Parallel(n_jobs=1)]: Done   1 out of   1 | elapsed:    3.2s remaining:    0.0s\n"
          ],
          "name": "stderr"
        },
        {
          "output_type": "stream",
          "text": [
            "[CV]  n_estimators=900, min_samples_split=5, min_samples_leaf=5, max_features=sqrt, max_depth=10, total=   3.3s\n",
            "[CV] n_estimators=900, min_samples_split=5, min_samples_leaf=5, max_features=sqrt, max_depth=10 \n",
            "[CV]  n_estimators=900, min_samples_split=5, min_samples_leaf=5, max_features=sqrt, max_depth=10, total=   3.0s\n",
            "[CV] n_estimators=900, min_samples_split=5, min_samples_leaf=5, max_features=sqrt, max_depth=10 \n",
            "[CV]  n_estimators=900, min_samples_split=5, min_samples_leaf=5, max_features=sqrt, max_depth=10, total=   3.0s\n",
            "[CV] n_estimators=900, min_samples_split=5, min_samples_leaf=5, max_features=sqrt, max_depth=10 \n",
            "[CV]  n_estimators=900, min_samples_split=5, min_samples_leaf=5, max_features=sqrt, max_depth=10, total=   3.0s\n",
            "[CV] n_estimators=1100, min_samples_split=10, min_samples_leaf=2, max_features=sqrt, max_depth=15 \n",
            "[CV]  n_estimators=1100, min_samples_split=10, min_samples_leaf=2, max_features=sqrt, max_depth=15, total=   3.9s\n",
            "[CV] n_estimators=1100, min_samples_split=10, min_samples_leaf=2, max_features=sqrt, max_depth=15 \n",
            "[CV]  n_estimators=1100, min_samples_split=10, min_samples_leaf=2, max_features=sqrt, max_depth=15, total=   4.0s\n",
            "[CV] n_estimators=1100, min_samples_split=10, min_samples_leaf=2, max_features=sqrt, max_depth=15 \n",
            "[CV]  n_estimators=1100, min_samples_split=10, min_samples_leaf=2, max_features=sqrt, max_depth=15, total=   3.9s\n",
            "[CV] n_estimators=1100, min_samples_split=10, min_samples_leaf=2, max_features=sqrt, max_depth=15 \n",
            "[CV]  n_estimators=1100, min_samples_split=10, min_samples_leaf=2, max_features=sqrt, max_depth=15, total=   3.8s\n",
            "[CV] n_estimators=1100, min_samples_split=10, min_samples_leaf=2, max_features=sqrt, max_depth=15 \n",
            "[CV]  n_estimators=1100, min_samples_split=10, min_samples_leaf=2, max_features=sqrt, max_depth=15, total=   3.8s\n",
            "[CV] n_estimators=300, min_samples_split=100, min_samples_leaf=5, max_features=auto, max_depth=15 \n",
            "[CV]  n_estimators=300, min_samples_split=100, min_samples_leaf=5, max_features=auto, max_depth=15, total=   1.5s\n",
            "[CV] n_estimators=300, min_samples_split=100, min_samples_leaf=5, max_features=auto, max_depth=15 \n",
            "[CV]  n_estimators=300, min_samples_split=100, min_samples_leaf=5, max_features=auto, max_depth=15, total=   1.5s\n",
            "[CV] n_estimators=300, min_samples_split=100, min_samples_leaf=5, max_features=auto, max_depth=15 \n",
            "[CV]  n_estimators=300, min_samples_split=100, min_samples_leaf=5, max_features=auto, max_depth=15, total=   1.5s\n",
            "[CV] n_estimators=300, min_samples_split=100, min_samples_leaf=5, max_features=auto, max_depth=15 \n",
            "[CV]  n_estimators=300, min_samples_split=100, min_samples_leaf=5, max_features=auto, max_depth=15, total=   1.5s\n",
            "[CV] n_estimators=300, min_samples_split=100, min_samples_leaf=5, max_features=auto, max_depth=15 \n",
            "[CV]  n_estimators=300, min_samples_split=100, min_samples_leaf=5, max_features=auto, max_depth=15, total=   1.4s\n",
            "[CV] n_estimators=400, min_samples_split=5, min_samples_leaf=5, max_features=auto, max_depth=15 \n",
            "[CV]  n_estimators=400, min_samples_split=5, min_samples_leaf=5, max_features=auto, max_depth=15, total=   2.0s\n",
            "[CV] n_estimators=400, min_samples_split=5, min_samples_leaf=5, max_features=auto, max_depth=15 \n",
            "[CV]  n_estimators=400, min_samples_split=5, min_samples_leaf=5, max_features=auto, max_depth=15, total=   1.9s\n",
            "[CV] n_estimators=400, min_samples_split=5, min_samples_leaf=5, max_features=auto, max_depth=15 \n",
            "[CV]  n_estimators=400, min_samples_split=5, min_samples_leaf=5, max_features=auto, max_depth=15, total=   1.9s\n",
            "[CV] n_estimators=400, min_samples_split=5, min_samples_leaf=5, max_features=auto, max_depth=15 \n",
            "[CV]  n_estimators=400, min_samples_split=5, min_samples_leaf=5, max_features=auto, max_depth=15, total=   1.9s\n",
            "[CV] n_estimators=400, min_samples_split=5, min_samples_leaf=5, max_features=auto, max_depth=15 \n",
            "[CV]  n_estimators=400, min_samples_split=5, min_samples_leaf=5, max_features=auto, max_depth=15, total=   2.0s\n",
            "[CV] n_estimators=700, min_samples_split=5, min_samples_leaf=10, max_features=auto, max_depth=20 \n",
            "[CV]  n_estimators=700, min_samples_split=5, min_samples_leaf=10, max_features=auto, max_depth=20, total=   3.4s\n",
            "[CV] n_estimators=700, min_samples_split=5, min_samples_leaf=10, max_features=auto, max_depth=20 \n",
            "[CV]  n_estimators=700, min_samples_split=5, min_samples_leaf=10, max_features=auto, max_depth=20, total=   3.4s\n",
            "[CV] n_estimators=700, min_samples_split=5, min_samples_leaf=10, max_features=auto, max_depth=20 \n",
            "[CV]  n_estimators=700, min_samples_split=5, min_samples_leaf=10, max_features=auto, max_depth=20, total=   3.4s\n",
            "[CV] n_estimators=700, min_samples_split=5, min_samples_leaf=10, max_features=auto, max_depth=20 \n",
            "[CV]  n_estimators=700, min_samples_split=5, min_samples_leaf=10, max_features=auto, max_depth=20, total=   3.4s\n",
            "[CV] n_estimators=700, min_samples_split=5, min_samples_leaf=10, max_features=auto, max_depth=20 \n",
            "[CV]  n_estimators=700, min_samples_split=5, min_samples_leaf=10, max_features=auto, max_depth=20, total=   3.3s\n",
            "[CV] n_estimators=1000, min_samples_split=2, min_samples_leaf=1, max_features=sqrt, max_depth=25 \n",
            "[CV]  n_estimators=1000, min_samples_split=2, min_samples_leaf=1, max_features=sqrt, max_depth=25, total=   3.6s\n",
            "[CV] n_estimators=1000, min_samples_split=2, min_samples_leaf=1, max_features=sqrt, max_depth=25 \n",
            "[CV]  n_estimators=1000, min_samples_split=2, min_samples_leaf=1, max_features=sqrt, max_depth=25, total=   3.6s\n",
            "[CV] n_estimators=1000, min_samples_split=2, min_samples_leaf=1, max_features=sqrt, max_depth=25 \n",
            "[CV]  n_estimators=1000, min_samples_split=2, min_samples_leaf=1, max_features=sqrt, max_depth=25, total=   3.5s\n",
            "[CV] n_estimators=1000, min_samples_split=2, min_samples_leaf=1, max_features=sqrt, max_depth=25 \n",
            "[CV]  n_estimators=1000, min_samples_split=2, min_samples_leaf=1, max_features=sqrt, max_depth=25, total=   3.5s\n",
            "[CV] n_estimators=1000, min_samples_split=2, min_samples_leaf=1, max_features=sqrt, max_depth=25 \n",
            "[CV]  n_estimators=1000, min_samples_split=2, min_samples_leaf=1, max_features=sqrt, max_depth=25, total=   3.6s\n",
            "[CV] n_estimators=1100, min_samples_split=15, min_samples_leaf=10, max_features=sqrt, max_depth=5 \n",
            "[CV]  n_estimators=1100, min_samples_split=15, min_samples_leaf=10, max_features=sqrt, max_depth=5, total=   3.2s\n",
            "[CV] n_estimators=1100, min_samples_split=15, min_samples_leaf=10, max_features=sqrt, max_depth=5 \n",
            "[CV]  n_estimators=1100, min_samples_split=15, min_samples_leaf=10, max_features=sqrt, max_depth=5, total=   3.2s\n",
            "[CV] n_estimators=1100, min_samples_split=15, min_samples_leaf=10, max_features=sqrt, max_depth=5 \n",
            "[CV]  n_estimators=1100, min_samples_split=15, min_samples_leaf=10, max_features=sqrt, max_depth=5, total=   3.3s\n",
            "[CV] n_estimators=1100, min_samples_split=15, min_samples_leaf=10, max_features=sqrt, max_depth=5 \n",
            "[CV]  n_estimators=1100, min_samples_split=15, min_samples_leaf=10, max_features=sqrt, max_depth=5, total=   3.2s\n",
            "[CV] n_estimators=1100, min_samples_split=15, min_samples_leaf=10, max_features=sqrt, max_depth=5 \n",
            "[CV]  n_estimators=1100, min_samples_split=15, min_samples_leaf=10, max_features=sqrt, max_depth=5, total=   3.3s\n",
            "[CV] n_estimators=300, min_samples_split=15, min_samples_leaf=1, max_features=sqrt, max_depth=15 \n",
            "[CV]  n_estimators=300, min_samples_split=15, min_samples_leaf=1, max_features=sqrt, max_depth=15, total=   1.1s\n",
            "[CV] n_estimators=300, min_samples_split=15, min_samples_leaf=1, max_features=sqrt, max_depth=15 \n",
            "[CV]  n_estimators=300, min_samples_split=15, min_samples_leaf=1, max_features=sqrt, max_depth=15, total=   1.1s\n",
            "[CV] n_estimators=300, min_samples_split=15, min_samples_leaf=1, max_features=sqrt, max_depth=15 \n",
            "[CV]  n_estimators=300, min_samples_split=15, min_samples_leaf=1, max_features=sqrt, max_depth=15, total=   1.0s\n",
            "[CV] n_estimators=300, min_samples_split=15, min_samples_leaf=1, max_features=sqrt, max_depth=15 \n",
            "[CV]  n_estimators=300, min_samples_split=15, min_samples_leaf=1, max_features=sqrt, max_depth=15, total=   1.1s\n",
            "[CV] n_estimators=300, min_samples_split=15, min_samples_leaf=1, max_features=sqrt, max_depth=15 \n",
            "[CV]  n_estimators=300, min_samples_split=15, min_samples_leaf=1, max_features=sqrt, max_depth=15, total=   1.1s\n",
            "[CV] n_estimators=700, min_samples_split=10, min_samples_leaf=2, max_features=sqrt, max_depth=5 \n",
            "[CV]  n_estimators=700, min_samples_split=10, min_samples_leaf=2, max_features=sqrt, max_depth=5, total=   2.1s\n",
            "[CV] n_estimators=700, min_samples_split=10, min_samples_leaf=2, max_features=sqrt, max_depth=5 \n",
            "[CV]  n_estimators=700, min_samples_split=10, min_samples_leaf=2, max_features=sqrt, max_depth=5, total=   2.1s\n",
            "[CV] n_estimators=700, min_samples_split=10, min_samples_leaf=2, max_features=sqrt, max_depth=5 \n",
            "[CV]  n_estimators=700, min_samples_split=10, min_samples_leaf=2, max_features=sqrt, max_depth=5, total=   2.1s\n",
            "[CV] n_estimators=700, min_samples_split=10, min_samples_leaf=2, max_features=sqrt, max_depth=5 \n",
            "[CV]  n_estimators=700, min_samples_split=10, min_samples_leaf=2, max_features=sqrt, max_depth=5, total=   2.1s\n",
            "[CV] n_estimators=700, min_samples_split=10, min_samples_leaf=2, max_features=sqrt, max_depth=5 \n",
            "[CV]  n_estimators=700, min_samples_split=10, min_samples_leaf=2, max_features=sqrt, max_depth=5, total=   2.1s\n",
            "[CV] n_estimators=700, min_samples_split=15, min_samples_leaf=1, max_features=auto, max_depth=20 \n",
            "[CV]  n_estimators=700, min_samples_split=15, min_samples_leaf=1, max_features=auto, max_depth=20, total=   3.3s\n",
            "[CV] n_estimators=700, min_samples_split=15, min_samples_leaf=1, max_features=auto, max_depth=20 \n",
            "[CV]  n_estimators=700, min_samples_split=15, min_samples_leaf=1, max_features=auto, max_depth=20, total=   3.4s\n",
            "[CV] n_estimators=700, min_samples_split=15, min_samples_leaf=1, max_features=auto, max_depth=20 \n",
            "[CV]  n_estimators=700, min_samples_split=15, min_samples_leaf=1, max_features=auto, max_depth=20, total=   3.5s\n",
            "[CV] n_estimators=700, min_samples_split=15, min_samples_leaf=1, max_features=auto, max_depth=20 \n",
            "[CV]  n_estimators=700, min_samples_split=15, min_samples_leaf=1, max_features=auto, max_depth=20, total=   3.3s\n",
            "[CV] n_estimators=700, min_samples_split=15, min_samples_leaf=1, max_features=auto, max_depth=20 \n",
            "[CV]  n_estimators=700, min_samples_split=15, min_samples_leaf=1, max_features=auto, max_depth=20, total=   3.4s\n"
          ],
          "name": "stdout"
        },
        {
          "output_type": "stream",
          "text": [
            "[Parallel(n_jobs=1)]: Done  50 out of  50 | elapsed:  2.3min finished\n"
          ],
          "name": "stderr"
        },
        {
          "output_type": "execute_result",
          "data": {
            "text/plain": [
              "RandomizedSearchCV(cv=5, error_score=nan,\n",
              "                   estimator=RandomForestRegressor(bootstrap=True,\n",
              "                                                   ccp_alpha=0.0,\n",
              "                                                   criterion='mse',\n",
              "                                                   max_depth=None,\n",
              "                                                   max_features='auto',\n",
              "                                                   max_leaf_nodes=None,\n",
              "                                                   max_samples=None,\n",
              "                                                   min_impurity_decrease=0.0,\n",
              "                                                   min_impurity_split=None,\n",
              "                                                   min_samples_leaf=1,\n",
              "                                                   min_samples_split=2,\n",
              "                                                   min_weight_fraction_leaf=0.0,\n",
              "                                                   n_estimators=100,\n",
              "                                                   n_jobs=None, oob_score=Fals...\n",
              "                   iid='deprecated', n_iter=10, n_jobs=1,\n",
              "                   param_distributions={'max_depth': [5, 10, 15, 20, 25, 30],\n",
              "                                        'max_features': ['auto', 'sqrt'],\n",
              "                                        'min_samples_leaf': [1, 2, 5, 10],\n",
              "                                        'min_samples_split': [2, 5, 10, 15,\n",
              "                                                              100],\n",
              "                                        'n_estimators': [100, 200, 300, 400,\n",
              "                                                         500, 600, 700, 800,\n",
              "                                                         900, 1000, 1100,\n",
              "                                                         1200]},\n",
              "                   pre_dispatch='2*n_jobs', random_state=42, refit=True,\n",
              "                   return_train_score=False, scoring='neg_mean_squared_error',\n",
              "                   verbose=2)"
            ]
          },
          "metadata": {
            "tags": []
          },
          "execution_count": 118
        }
      ]
    },
    {
      "cell_type": "code",
      "metadata": {
        "colab": {
          "base_uri": "https://localhost:8080/"
        },
        "id": "vYIWloxO7GeC",
        "outputId": "b221a3e5-6256-4e09-f5ad-fa617224bf83"
      },
      "source": [
        "rf_random.best_params_"
      ],
      "execution_count": 119,
      "outputs": [
        {
          "output_type": "execute_result",
          "data": {
            "text/plain": [
              "{'max_depth': 15,\n",
              " 'max_features': 'auto',\n",
              " 'min_samples_leaf': 5,\n",
              " 'min_samples_split': 100,\n",
              " 'n_estimators': 300}"
            ]
          },
          "metadata": {
            "tags": []
          },
          "execution_count": 119
        }
      ]
    },
    {
      "cell_type": "code",
      "metadata": {
        "id": "1TU6rC8_7O2Z"
      },
      "source": [
        "prediction = rf_random.predict(X_test)"
      ],
      "execution_count": 120,
      "outputs": []
    },
    {
      "cell_type": "code",
      "metadata": {
        "colab": {
          "base_uri": "https://localhost:8080/",
          "height": 553
        },
        "id": "5g2L4Ag27O-U",
        "outputId": "f6d3bf63-8116-4b71-9497-ae8ecaf29213"
      },
      "source": [
        "plt.figure(figsize = (8,8))\n",
        "sns.distplot(y_test-prediction)\n",
        "plt.show()"
      ],
      "execution_count": 121,
      "outputs": [
        {
          "output_type": "stream",
          "text": [
            "/usr/local/lib/python3.7/dist-packages/seaborn/distributions.py:2557: FutureWarning: `distplot` is a deprecated function and will be removed in a future version. Please adapt your code to use either `displot` (a figure-level function with similar flexibility) or `histplot` (an axes-level function for histograms).\n",
            "  warnings.warn(msg, FutureWarning)\n"
          ],
          "name": "stderr"
        },
        {
          "output_type": "display_data",
          "data": {
            "image/png": "[encoded data removed]",
            "text/plain": [
              "<Figure size 576x576 with 1 Axes>"
            ]
          },
          "metadata": {
            "tags": [],
            "needs_background": "light"
          }
        }
      ]
    },
    {
      "cell_type": "code",
      "metadata": {
        "colab": {
          "base_uri": "https://localhost:8080/",
          "height": 497
        },
        "id": "74QgxwEV7Tn2",
        "outputId": "d4c54cfb-0fb0-4b06-d67d-820e770221ec"
      },
      "source": [
        "plt.figure(figsize = (8,8))\n",
        "plt.scatter(y_test, prediction, alpha = 0.5)\n",
        "plt.xlabel(\"y_test\")\n",
        "plt.ylabel(\"y_pred\")\n",
        "plt.show()"
      ],
      "execution_count": 122,
      "outputs": [
        {
          "output_type": "display_data",
          "data": {
            "image/png": "[encoded data removed]",
            "text/plain": [
              "<Figure size 576x576 with 1 Axes>"
            ]
          },
          "metadata": {
            "tags": [],
            "needs_background": "light"
          }
        }
      ]
    },
    {
      "cell_type": "code",
      "metadata": {
        "colab": {
          "base_uri": "https://localhost:8080/"
        },
        "id": "qIjknYS17yCz",
        "outputId": "eca6391c-7892-4fb2-8f4c-ebd4a1d6fb10"
      },
      "source": [
        "print('MAE:', metrics.mean_absolute_error(y_test, prediction))\n",
        "print('MSE:', metrics.mean_squared_error(y_test, prediction))\n",
        "print('RMSE:', np.sqrt(metrics.mean_squared_error(y_test, prediction)))"
      ],
      "execution_count": 123,
      "outputs": [
        {
          "output_type": "stream",
          "text": [
            "MAE: 5.15027134393361e-05\n",
            "MSE: 1.4171138808949779e-06\n",
            "RMSE: 0.0011904259241527705\n"
          ],
          "name": "stdout"
        }
      ]
    },
    {
      "cell_type": "markdown",
      "metadata": {
        "id": "XjnCM9lC72l0"
      },
      "source": [
        "**Saving the Model**"
      ]
    },
    {
      "cell_type": "code",
      "metadata": {
        "id": "l4mUYIRE758A"
      },
      "source": [
        "import pickle\n",
        "# open a file, where you ant to store the data\n",
        "file = open('flight_rf.pkl', 'wb')\n",
        "\n",
        "# dump information to that file\n",
        "pickle.dump(reg_rf, file)"
      ],
      "execution_count": 124,
      "outputs": []
    },
    {
      "cell_type": "code",
      "metadata": {
        "id": "ckArC-WD76F_"
      },
      "source": [
        "model = open('/content/flight_rf.pkl','rb')\n",
        "forest = pickle.load(model)"
      ],
      "execution_count": 126,
      "outputs": []
    },
    {
      "cell_type": "code",
      "metadata": {
        "id": "3oWeFzHn76Ws"
      },
      "source": [
        "y_prediction = forest.predict(X_test)"
      ],
      "execution_count": 127,
      "outputs": []
    },
    {
      "cell_type": "code",
      "metadata": {
        "colab": {
          "base_uri": "https://localhost:8080/"
        },
        "id": "TKDOzI648HrT",
        "outputId": "f6d05c48-8838-493c-f2e5-95b9af013ae6"
      },
      "source": [
        "metrics.r2_score(y_test, y_prediction)"
      ],
      "execution_count": 128,
      "outputs": [
        {
          "output_type": "execute_result",
          "data": {
            "text/plain": [
              "1.0"
            ]
          },
          "metadata": {
            "tags": []
          },
          "execution_count": 128
        }
      ]
    }
  ]
}